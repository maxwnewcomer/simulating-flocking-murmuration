{
 "cells": [
  {
   "cell_type": "code",
   "execution_count": 50,
   "metadata": {},
   "outputs": [],
   "source": [
    "from random import uniform as randFloat\n",
    "from tqdm import tqdm_notebook as tqdm\n",
    "import ipyvolume.pylab as ipv\n",
    "import numpy as np\n",
    "import time\n",
    "import math"
   ]
  },
  {
   "cell_type": "code",
   "execution_count": 60,
   "metadata": {},
   "outputs": [
    {
     "ename": "IndentationError",
     "evalue": "expected an indented block (<ipython-input-60-b2c6edda41e0>, line 52)",
     "output_type": "error",
     "traceback": [
      "\u001b[0;36m  File \u001b[0;32m\"<ipython-input-60-b2c6edda41e0>\"\u001b[0;36m, line \u001b[0;32m52\u001b[0m\n\u001b[0;31m    return output\u001b[0m\n\u001b[0m         ^\u001b[0m\n\u001b[0;31mIndentationError\u001b[0m\u001b[0;31m:\u001b[0m expected an indented block\n"
     ]
    }
   ],
   "source": [
    "class Bird():\n",
    "    def __init__(self, id, flock, position, velocity = [0, 0, 0]):\n",
    "        self.position = position\n",
    "        self.velocity = velocity\n",
    "        self.nearestneighbors = []\n",
    "        self.flock = flock\n",
    "        self.id = id\n",
    "        \n",
    "    def nearme(self):\n",
    "        \"\"\"\n",
    "        determines 7 nearest neighbors (except right behind) ** still looks all around not everywhere but right behind\n",
    "        \"\"\"\n",
    "        #close = math.sqrt(math.pow(self.flock.xmax - self.flock.xmin, 2), math.pow(self.flock.ymax - self.flock.ymin, 2), math.pow(self.flock.zmax - self.flock.zmin, 2))\n",
    "        close = 999999\n",
    "        closest = [close, close, close, close, close, close, close]\n",
    "        closestbirds = [0, 0, 0, 0, 0, 0, 0]\n",
    "        for i in range(7):\n",
    "            for bird in range(self.flock.size):\n",
    "                if (bird != self.id):\n",
    "                    distance = math.sqrt(math.pow(self.position[0] - self.flock.birds[bird].position[0], 2) + math.pow(self.position[1] - self.flock.birds[bird].position[1], 2) + math.pow(self.position[2] - self.flock.birds[bird].position[2], 2))\n",
    "                    if (bird not in closestbirds):\n",
    "    #                     if (not self.behindme(self.flock.birds[bird])):\n",
    "                            if (distance < closest[i]):\n",
    "                                closestbirds[i] = bird\n",
    "                                closest[i] = distance\n",
    "        self.nearestneighbors.append(closestbirds)\n",
    "        return closestbirds\n",
    "    \n",
    "### STILL WORKING ON ###\n",
    "#     def behindme(self, bird):\n",
    "#         xdistance, ydistance, zdistance = (bird.position[0] - self.position[0]), (bird.position[1] - self.position[1]), (bird.position[2] - self.position[2])\n",
    "#         xlim, ylim, zlim = [self.position[0], self.velocity[0]*self.position[0]*(self.flock.xmax - self.flock.xmin)], [self.position[1], self.velocity[1]*self.position[1]*(self.flock.ymax - self.flock.ymin)], [self.position[2], self.velocity[2]*self.position[2]*(self.flock.zmax - self.flock.zmin)]\n",
    "#         if ( xlim[0] > bird.position[0] > xlim[1]):\n",
    "#             return True\n",
    "#         else:\n",
    "#             return False\n",
    "        \n",
    "    def align(self, variability = 1):\n",
    "        \"\"\"\n",
    "        Aligns itself by determining velocity based on 7 nearest neighbors\n",
    "        \"\"\"\n",
    "        output = [0, 0, 0]\n",
    "        self.nearme()\n",
    "        for j in range(3):\n",
    "            output[j] = sum(self.flock.birds[self.nearestneighbors[0][i]].velocity[j] for i in range(7))/len(self.nearestneighbors[0]) + randFloat(-variability, variability)\n",
    "        return output\n",
    "\n",
    "    def separate(self):\n",
    "        output = [0, 0, 0]\n",
    "        for bird in self.nearestneighbors[0]:\n",
    "            distancex, distancey, distancez = self.position[0] - self.flock.birds[bird].position[0], self.position[1] - self.flock.birds[bird].position[1], self.position[2] - self.flock.birds[bird].position[2]\n",
    "            \n",
    "        return output\n",
    "    \n",
    "    def wallforce(self):\n",
    "        output = [0, 0, 0]\n",
    "        return output\n",
    "    \n",
    "    def stick(self):\n",
    "        output = [0, 0, 0]\n",
    "        return output\n",
    "    \n",
    "    def applyForce(initial, force, variability, weight, interval):\n",
    "        output = initial\n",
    "        for i in range(3):\n",
    "            output[i] = output[i] + weight*(force*interval) + randFloat(-variability/2, variablility/2)\n",
    "        return output\n",
    "    \n",
    "    def refreshVelocity(self, variability = 1, sepWeight = 1, stickWeight = 1, interval = .5):\n",
    "        \"\"\"\n",
    "        Combines multiple forces to output final velocity\n",
    "        \"\"\"\n",
    "        output = self.align(variability)\n",
    "        #output = self.applyForce(output, self.separate(), variablility, sepWeight, interval)\n",
    "        #output = self.applyForce(output, self.stick(), variablility, stickWeight, interval)\n",
    "        #output = self.applyForce(output, self.wallforce(), interval)\n",
    "        self.velocity = output\n",
    "        \n",
    "        \n",
    "        "
   ]
  },
  {
   "cell_type": "code",
   "execution_count": 58,
   "metadata": {},
   "outputs": [
    {
     "name": "stdout",
     "output_type": "stream",
     "text": [
      "The flock center is:  [49.43687060782811, 49.494898194697065, 50.33547141664228]\n"
     ]
    },
    {
     "data": {
      "application/vnd.jupyter.widget-view+json": {
       "model_id": "89cc6421f40f45778160820a52659637",
       "version_major": 2,
       "version_minor": 0
      },
      "text/plain": [
       "VBox(children=(Figure(camera=PerspectiveCamera(fov=46.0, position=(0.0, 0.0, 2.0), quaternion=(0.0, 0.0, 0.0, …"
      ]
     },
     "metadata": {},
     "output_type": "display_data"
    },
    {
     "data": {
      "application/vnd.jupyter.widget-view+json": {
       "model_id": "955b6f9e1a5b47b38847ac72145b3857",
       "version_major": 2,
       "version_minor": 0
      },
      "text/plain": [
       "HBox(children=(IntProgress(value=0, max=5), HTML(value='')))"
      ]
     },
     "metadata": {},
     "output_type": "display_data"
    },
    {
     "data": {
      "application/vnd.jupyter.widget-view+json": {
       "model_id": "b7e10c326f4545f6a890f2a424f943a3",
       "version_major": 2,
       "version_minor": 0
      },
      "text/plain": [
       "HBox(children=(IntProgress(value=0, max=10), HTML(value='')))"
      ]
     },
     "metadata": {},
     "output_type": "display_data"
    },
    {
     "data": {
      "application/vnd.jupyter.widget-view+json": {
       "model_id": "542f67ec0dbe41f793bfa5196fbf0bf0",
       "version_major": 2,
       "version_minor": 0
      },
      "text/plain": [
       "VBox(children=(Figure(camera=PerspectiveCamera(fov=46.0, position=(0.0, 0.0, 2.0), quaternion=(0.0, 0.0, 0.0, …"
      ]
     },
     "metadata": {},
     "output_type": "display_data"
    },
    {
     "data": {
      "application/vnd.jupyter.widget-view+json": {
       "model_id": "29eb85d46e7c4581991f283ef8b8e2ad",
       "version_major": 2,
       "version_minor": 0
      },
      "text/plain": [
       "HBox(children=(IntProgress(value=0, max=5), HTML(value='')))"
      ]
     },
     "metadata": {},
     "output_type": "display_data"
    },
    {
     "name": "stdout",
     "output_type": "stream",
     "text": [
      "Completed\n"
     ]
    }
   ],
   "source": [
    "class Flock():\n",
    "    def __init__(self, xmin = 0, xmax = 100, ymin = 0, ymax = 100, zmin = 0, zmax = 100):\n",
    "        self.xmin = xmin\n",
    "        self.xmax = xmax\n",
    "        self.ymin = ymin\n",
    "        self.ymax = ymax\n",
    "        self.zmin = zmin\n",
    "        self.zmax = zmax\n",
    "        self.birds = []\n",
    "        self.size = 0\n",
    "        \n",
    "    def center(self):\n",
    "        center = [0, 0, 0]\n",
    "        if (self.size == 0):\n",
    "            center = [(self.xmax - self.xmin)/2, (self.ymax - self.xmin)/ 2, (self.xmax - self.xmin)/2]\n",
    "        else:  \n",
    "            for i in range(self.size):\n",
    "                center[0] += self.birds[i].position[0]\n",
    "                center[1] += self.birds[i].position[1]\n",
    "                center[2] += self.birds[i].position[2]\n",
    "            center[0] = center[0] / self.size\n",
    "            center[1] = center[1] / self.size\n",
    "            center[2] = center[2] / self.size\n",
    "        return center\n",
    "    \n",
    "    def distance(self, bird1, bird2):\n",
    "        distance = math.sqrt(math.pow(bird1.position[0] - bird2.position[0], 2) + math.pow(bird1.position[1] - bird2.position[1], 2) + math.pow(bird1.position[2] - bird2.position[2], 2))\n",
    "        return distance\n",
    "        \n",
    "    def boundries(self):\n",
    "        return [self.xmin, self.xmax, self.ymin, self.ymax, self.zmin, self.zmax]\n",
    "        \n",
    "    def generate(self, size = 100, velocityMin = -10, velocityMax = 10):\n",
    "        for i in range(size):\n",
    "            x, y, z = randFloat(self.xmin, self.xmax), randFloat(self.ymin, self.ymax), randFloat(self.zmin, self.zmax)\n",
    "            u, w, v = randFloat(velocityMin, velocityMax), randFloat(velocityMin, velocityMax), randFloat(velocityMin, velocityMax)\n",
    "            newBird = Bird(id = i, flock = self, position = [x, y, z], velocity = [u, w, v])\n",
    "            self.birds.append(newBird)\n",
    "            self.size = len(self.birds)\n",
    "            del newBird\n",
    "            \n",
    "    def plot(self):\n",
    "        fig = ipv.figure()\n",
    "        flockx, flocky, flockz = np.array([]), np.array([]), np.array([])\n",
    "        flocku, flockv, flockw = np.array([]), np.array([]), np.array([])\n",
    "        for bird in range(self.size):\n",
    "            flockx = np.append(flockx, self.birds[bird].position[0])\n",
    "            flocky = np.append(flocky, self.birds[bird].position[1])\n",
    "            flockz = np.append(flockz, self.birds[bird].position[2])\n",
    "            flocku = np.append(flocku, self.birds[bird].velocity[0])\n",
    "            flockv = np.append(flockv, self.birds[bird].velocity[1])\n",
    "            flockw = np.append(flockw, self.birds[bird].velocity[2])\n",
    "        centerx, centery, centerz = np.array([self.center()[0]]), np.array([self.center()[1]]), np.array([self.center()[1]])\n",
    "        ipv.clear()\n",
    "        flock = ipv.quiver(flockx, flocky, flockz, flocku, flockv, flockw, color='black', size = 1.5)\n",
    "        center = ipv.scatter(centerx, centery, centerz, marker = 'sphere', color = 'blue', size = 2)\n",
    "        ipv.style.axes_off()\n",
    "        ipv.style.box_off()\n",
    "        ipv.show()\n",
    "\n",
    "    def refreshVelocities(self, variability, sepWeight = 1, stickWeight = 1, interval = .5):\n",
    "        for bird in self.birds:\n",
    "            bird.refreshVelocity(variability, sepWeight = sepWeight, stickWeight = stickWeight, interval = interval)\n",
    "    \n",
    "    def __str__(self):\n",
    "        return ' '.join(str(e) for e in self.birds)\n",
    "    \n",
    "########################\n",
    "#         TEST         #\n",
    "########################\n",
    "\n",
    "flock = Flock()\n",
    "flock.generate(size = 1000)\n",
    "\n",
    "print('The flock center is: ', flock.center())\n",
    "\n",
    "flock.plot()\n",
    "\n",
    "#### PLOT CONNECTIONS ####\n",
    "for mainbird in tqdm(range(5), unit = 'birds'): \n",
    "    for bird in flock.birds[mainbird].nearme():\n",
    "        x1, x2 = flock.birds[mainbird].position[0], flock.birds[bird].position[0]\n",
    "        y1, y2 = flock.birds[mainbird].position[1], flock.birds[bird].position[1]\n",
    "        z1, z2 = flock.birds[mainbird].position[2], flock.birds[bird].position[2]\n",
    "        x, y, z = np.array([x1, x2]), np.array([y1, y2]), np.array([z1, z2])\n",
    "        ipv.plot(x, y, z, size = .1)\n",
    "        time.sleep(.01)\n",
    "    time.sleep(.1)\n",
    "\n",
    "\n",
    "flock.refreshVelocities(variability = 1.5)\n",
    "flock.plot()\n",
    "\n",
    "#### PLOT CONNECTIONS ####\n",
    "for mainbird in tqdm(range(5), unit = 'birds'): \n",
    "    for bird in flock.birds[mainbird].nearme():\n",
    "        x1, x2 = flock.birds[mainbird].position[0], flock.birds[bird].position[0]\n",
    "        y1, y2 = flock.birds[mainbird].position[1], flock.birds[bird].position[1]\n",
    "        z1, z2 = flock.birds[mainbird].position[2], flock.birds[bird].position[2]\n",
    "        x, y, z = np.array([x1, x2]), np.array([y1, y2]), np.array([z1, z2])\n",
    "        ipv.plot(x, y, z, size = .1)\n",
    "        time.sleep(.01)\n",
    "    time.sleep(.1)\n",
    "\n",
    "print(\"Completed\")\n",
    "\n",
    "# ### FIND NEARBIRDS IN ALL OF FLOCK ###\n",
    "# for bird in range(2):\n",
    "#     nearBirds = flock.birds[bird].nearme()\n",
    "#     print((\"Bird {:3}'s nearest birds are: {}\").format(bird, nearBirds))\n",
    "# ## PROOF THAT IT RANKS BIRDS BY CLOSENESS ###\n",
    "#     for closebird in nearBirds:\n",
    "#         print(flock.distance(flock.birds[bird], flock.birds[closebird]))\n"
   ]
  },
  {
   "cell_type": "code",
   "execution_count": null,
   "metadata": {},
   "outputs": [],
   "source": []
  },
  {
   "cell_type": "code",
   "execution_count": null,
   "metadata": {},
   "outputs": [],
   "source": []
  },
  {
   "cell_type": "code",
   "execution_count": null,
   "metadata": {},
   "outputs": [],
   "source": []
  }
 ],
 "metadata": {
  "kernelspec": {
   "display_name": "Python 3",
   "language": "python",
   "name": "python3"
  },
  "language_info": {
   "codemirror_mode": {
    "name": "ipython",
    "version": 3
   },
   "file_extension": ".py",
   "mimetype": "text/x-python",
   "name": "python",
   "nbconvert_exporter": "python",
   "pygments_lexer": "ipython3",
   "version": "3.7.3"
  }
 },
 "nbformat": 4,
 "nbformat_minor": 2
}
