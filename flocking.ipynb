{
 "cells": [
  {
   "cell_type": "code",
   "execution_count": 5,
   "metadata": {},
   "outputs": [],
   "source": [
    "from random import uniform as randFloat\n",
    "from tqdm import tqdm_notebook as tqdm\n",
    "from statistics import mean\n",
    "import ipyvolume.pylab as ipv\n",
    "import numpy as np\n",
    "import time\n",
    "import math"
   ]
  },
  {
   "cell_type": "code",
   "execution_count": 97,
   "metadata": {},
   "outputs": [],
   "source": [
    "class Bird():\n",
    "    def __init__(self, id, flock, position, velocity = [0, 0, 0]):\n",
    "        self.position = position\n",
    "        self.velocity = velocity\n",
    "        self.nearestneighbors = []\n",
    "        self.flock = flock\n",
    "        self.id = id\n",
    "\n",
    "### NEARME, BUT MUCH LESS EFFECIENT THEN QSNEARME (QUICKSORTNEARME)\n",
    "#     def nearme(self):\n",
    "#         \"\"\"\n",
    "#         determines 7 nearest neighbors\n",
    "#         \"\"\"\n",
    "#         #close = math.sqrt(math.pow(self.flock.xmax - self.flock.xmin, 2), math.pow(self.flock.ymax - self.flock.ymin, 2), math.pow(self.flock.zmax - self.flock.zmin, 2))\n",
    "#         close = 999999\n",
    "#         closest = [close, close, close, close, close, close, close]\n",
    "#         closestbirds = [0, 0, 0, 0, 0, 0, 0]\n",
    "#         for i in range(7):\n",
    "#             for bird in range(self.flock.size):\n",
    "#                 if (bird != self.id):\n",
    "#                     distance = math.sqrt(math.pow(self.position[0] - self.flock.birds[bird].position[0], 2) + math.pow(self.position[1] - self.flock.birds[bird].position[1], 2) + math.pow(self.position[2] - self.flock.birds[bird].position[2], 2))\n",
    "#                     if (bird not in closestbirds):\n",
    "#                         if (distance < closest[i]):\n",
    "#                             closestbirds[i] = bird\n",
    "#                             closest[i] = distance\n",
    "#         self.nearestneighbors.append(closestbirds)\n",
    "#         return closestbirds\n",
    "    \n",
    "    def qsnearme(self):\n",
    "        distFlockBirds = []\n",
    "        numFlockBirds = []\n",
    "        for bird in range(self.flock.size):\n",
    "            distFlockBirds.append(math.sqrt(math.pow(self.position[0] - self.flock.birds[bird].position[0], 2) + math.pow(self.position[1] - self.flock.birds[bird].position[1], 2) + math.pow(self.position[2] - self.flock.birds[bird].position[2], 2)))\n",
    "        for i in range(self.flock.size):\n",
    "            numFlockBirds.append(i) \n",
    "        l = len(distFlockBirds)\n",
    "        self.quickSort(distFlockBirds, numFlockBirds, 0, l-1)\n",
    "        numFlockBirds.remove(self.id)\n",
    "        self.nearestneighbors = numFlockBirds[:7]\n",
    "        \n",
    "    def partition(self, arr, numarr, low, high): \n",
    "        i = (low-1)\n",
    "        pivot = arr[high]\n",
    "        for j in range(low, high):\n",
    "            if   arr[j] <= pivot: \n",
    "                i = i+1 \n",
    "                arr[i],arr[j] = arr[j],arr[i]\n",
    "                numarr[i], numarr[j] = numarr[j], numarr[i]\n",
    "        arr[i+1],arr[high] = arr[high],arr[i+1]\n",
    "        numarr[i+1],numarr[high] = numarr[high],numarr[i+1]\n",
    "        return (i+1) \n",
    "\n",
    "    def quickSort(self, arr, numarr, low, high): \n",
    "        if low < high: \n",
    "            p = self.partition(arr, numarr, low, high) \n",
    "            self.quickSort(arr, numarr, low, p - 1) \n",
    "            self.quickSort(arr, numarr, p + 1, high) \n",
    "            \n",
    "    def normalize(self, arr):\n",
    "        maximum = 0\n",
    "        for i in range(len(arr)):\n",
    "            if(abs(arr[i]) > abs(maximum)):\n",
    "                maximum = arr[i]\n",
    "        arr[0] = arr[0] / maximum\n",
    "        arr[1] = arr[1] / maximum\n",
    "        arr[2] = arr[2] / maximum\n",
    "        return arr\n",
    "    \n",
    "    def align(self, variability = 1):\n",
    "        xforces, yforces, zforces = [], [], []\n",
    "        for bird in self.nearestneighbors:\n",
    "            xforce, yforce, zforce = self.flock.birds[bird].velocity[0], self.flock.birds[bird].velocity[1], self.flock.birds[bird].velocity[2]\n",
    "            xforces.append(xforce)\n",
    "            yforces.append(yforce)\n",
    "            zforces.append(zforce)\n",
    "        output = [mean(xforces), mean(yforces), mean(zforces)]\n",
    "        output = self.normalize(output)\n",
    "        return output\n",
    "    \n",
    "    def separate(self):\n",
    "        xforces, yforces, zforces = [], [], []\n",
    "        for bird in self.nearestneighbors:\n",
    "            distancex, distancey, distancez = self.position[0] - self.flock.birds[bird].position[0], self.position[1] - self.flock.birds[bird].position[1], self.position[2] - self.flock.birds[bird].position[2]\n",
    "            xforce, yforce, zforce = -1/distancex, -1/distancey, -1/distancez\n",
    "            xforces.append(xforce)\n",
    "            yforces.append(yforce)\n",
    "            zforces.append(zforce)\n",
    "        output = [mean(xforces), mean(yforces), mean(zforces)]\n",
    "        output = self.normalize(output)\n",
    "        return output\n",
    "    \n",
    "    def wallforce(self):\n",
    "        xforces, yforces, zforces = [], [], []\n",
    "        for bird in self.nearestneighbors:\n",
    "            distancexmin, distanceymin, distancezmin = self.position[0] - self.flock.xmin, self.position[1] - self.flock.ymin, self.position[2] - self.flock.zmin\n",
    "            distancexmax, distanceymax, distancezmax = self.flock.xmax - self.position[0], self.flock.ymax - self.position[1], self.flock.zmax - self.position[2]\n",
    "            xfactor, yfactor, zfactor = 1, 1, 1\n",
    "            if(distancexmax <= distancexmin):\n",
    "                distancex = distancexmax\n",
    "            else:\n",
    "                distancex = distancexmin\n",
    "                xfactor = -1\n",
    "            if(distanceymax <= distanceymin):\n",
    "                distancey = distanceymax\n",
    "            else:\n",
    "                distancey = distanceymin\n",
    "                yfactor = -1\n",
    "            if(distancezmax <= distancezmin):\n",
    "                distancez = distancezmax\n",
    "                \n",
    "            else:\n",
    "                distancez = distancezmin\n",
    "                zfactor = -1\n",
    "            xforce, yforce, zforce = math.log(abs(distancex), .05), math.log(abs(distancey), .05), math.log(abs(distancez), .05)\n",
    "            xforces.append(xfactor*xforce)\n",
    "            yforces.append(yfactor*yforce)\n",
    "            zforces.append(zfactor*zforce)\n",
    "        output = [mean(xforces), mean(yforces), mean(zforces)]\n",
    "        return output\n",
    "    \n",
    "    def stick(self):\n",
    "        xforces, yforces, zforces = [], [], []\n",
    "        midpoint = [0, 0, 0]\n",
    "#         for j in range(3):\n",
    "#             midpoint[j] = sum(self.flock.birds[self.nearestneighbors[i]].position[j] for i in range(7))/len(self.nearestneighbors)\n",
    "        midpoint = self.flock.center()\n",
    "        distancex, distancey, distancez = self.position[0] - midpoint[0], self.position[1] - midpoint[1], self.position[2] - midpoint[2]\n",
    "        xforce, yforce, zforce = -distancex, -distancey, -distancez\n",
    "        xforces.append(xforce)\n",
    "        yforces.append(yforce)\n",
    "        zforces.append(zforce)\n",
    "        output = [mean(xforces), mean(yforces), mean(zforces)]\n",
    "        output = self.normalize(output)\n",
    "        return output\n",
    "    \n",
    "    def applyForce(self, initial, force, weight, interval):\n",
    "        output = initial\n",
    "        for i in range(3):\n",
    "            output[i] = output[i] + weight*(force[i]*interval)\n",
    "        return output\n",
    "    \n",
    "    def refreshVelocity(self, alignWeight, sepWeight, stickWeight, boundryWeight, interval):\n",
    "        \"\"\"\n",
    "        Combines multiple forces to output final velocity\n",
    "        \"\"\"\n",
    "        self.qsnearme()\n",
    "        output = self.applyForce(self.velocity, self.align(), weight = alignWeight, interval = interval)\n",
    "        output = self.applyForce(output, self.separate(), weight = sepWeight, interval = interval)\n",
    "        output = self.applyForce(output, self.stick(), weight = stickWeight, interval = interval)\n",
    "        output = self.applyForce(output, self.wallforce(), weight = boundryWeight, interval = interval)\n",
    "        self.velocity = output\n",
    "    \n",
    "    def refreshPosition(self, interval):\n",
    "        for i in range(3):\n",
    "            self.position[i] = self.position[i] + interval * self.velocity[i]\n",
    "        "
   ]
  },
  {
   "cell_type": "code",
   "execution_count": 151,
   "metadata": {},
   "outputs": [],
   "source": [
    "class Flock():\n",
    "    def __init__(self, xmin = 0, xmax = 100, ymin = 0, ymax = 100, zmin = 0, zmax = 100):\n",
    "        self.xmin = xmin\n",
    "        self.xmax = xmax\n",
    "        self.ymin = ymin\n",
    "        self.ymax = ymax\n",
    "        self.zmin = zmin\n",
    "        self.zmax = zmax\n",
    "        self.birds = []\n",
    "        self.size = 0\n",
    "        \n",
    "    def center(self):\n",
    "        center = [0, 0, 0]\n",
    "        if (self.size == 0):\n",
    "            center = [(self.xmax - self.xmin)/2, (self.ymax - self.xmin)/ 2, (self.xmax - self.xmin)/2]\n",
    "        else:  \n",
    "            for i in range(self.size):\n",
    "                center[0] += self.birds[i].position[0]\n",
    "                center[1] += self.birds[i].position[1]\n",
    "                center[2] += self.birds[i].position[2]\n",
    "            center[0] = center[0] / self.size\n",
    "            center[1] = center[1] / self.size\n",
    "            center[2] = center[2] / self.size\n",
    "        return center\n",
    "    \n",
    "    def distance(self, bird1, bird2):\n",
    "        distance = math.sqrt(math.pow(bird1.position[0] - bird2.position[0], 2) + math.pow(bird1.position[1] - bird2.position[1], 2) + math.pow(bird1.position[2] - bird2.position[2], 2))\n",
    "        return distance\n",
    "        \n",
    "    def boundries(self):\n",
    "        return [self.xmin, self.xmax, self.ymin, self.ymax, self.zmin, self.zmax]\n",
    "        \n",
    "    def generate(self, size = 100, velocityMin = -10, velocityMax = 10):\n",
    "        for i in range(size):\n",
    "            x, y, z = randFloat(self.xmin + self.xmax/20, (self.xmax - self.xmax/20)), randFloat(self.ymin + self.ymax/20, (self.ymax - self.ymax/20)), randFloat(self.zmin + self.zmax/20, (self.zmax - self.zmax/20))\n",
    "            u, w, v = randFloat(velocityMin, velocityMax), randFloat(velocityMin, velocityMax), randFloat(velocityMin, velocityMax)\n",
    "            newBird = Bird(id = i, flock = self, position = [x, y, z], velocity = [u, w, v])\n",
    "            self.birds.append(newBird)\n",
    "            self.size = len(self.birds)\n",
    "            del newBird\n",
    "\n",
    "    def plotConnections(self, limit):\n",
    "        for mainbird in tqdm(range(limit), unit = 'birds'): \n",
    "            for bird in flock.birds[mainbird].nearme():\n",
    "                x1, x2 = flock.birds[mainbird].position[0], flock.birds[bird].position[0]\n",
    "                y1, y2 = flock.birds[mainbird].position[1], flock.birds[bird].position[1]\n",
    "                z1, z2 = flock.birds[mainbird].position[2], flock.birds[bird].position[2]\n",
    "                x, y, z = np.array([x1, x2]), np.array([y1, y2]), np.array([z1, z2])\n",
    "                ipv.plot(x, y, z, size = .1)\n",
    "                time.sleep(.01)\n",
    "            time.sleep(.1)\n",
    "\n",
    "    def plot(self):\n",
    "        flockx, flocky, flockz = np.array([]), np.array([]), np.array([])\n",
    "        flocku, flockv, flockw = np.array([]), np.array([]), np.array([])\n",
    "        for bird in range(self.size):\n",
    "            flockx = np.append(flockx, self.birds[bird].position[0])\n",
    "            flocky = np.append(flocky, self.birds[bird].position[1])\n",
    "            flockz = np.append(flockz, self.birds[bird].position[2])\n",
    "            flocku = np.append(flocku, self.birds[bird].velocity[0])\n",
    "            flockv = np.append(flockv, self.birds[bird].velocity[1])\n",
    "            flockw = np.append(flockw, self.birds[bird].velocity[2])\n",
    "        centerx, centery, centerz = np.array([self.center()[0]]), np.array([self.center()[1]]), np.array([self.center()[1]])\n",
    "        ipv.clear()\n",
    "        ipv.xlim(self.xmin, self.xmax)\n",
    "        ipv.ylim(self.ymin, self.ymax)\n",
    "        ipv.zlim(self.zmin, self.zmax)\n",
    "        flock = ipv.quiver(flockx, flocky, flockz, flocku, flockv, flockw, color='black', size = 1.5)\n",
    "        center = ipv.scatter(centerx, centery, centerz, marker = 'sphere', color = 'blue', size = 2)\n",
    "        ipv.style.axes_off()\n",
    "        ipv.style.box_off()\n",
    "        ipv.show()\n",
    "\n",
    "    def refreshVelocities(self, alignWeight = 3, sepWeight = 3, stickWeight = 5, boundryWeight = 5, interval = 1, leave = False):\n",
    "        for bird in tqdm(self.birds, total = self.size, desc = 'Velocity refreshing...', unit = 'birds'):\n",
    "            bird.refreshVelocity(alignWeight = alignWeight, sepWeight = sepWeight, stickWeight = stickWeight, boundryWeight = boundryWeight, interval = interval)\n",
    "            \n",
    "    def refreshPositions(self, interval = 1):\n",
    "        for bird in tqdm(self.birds, total = self.size, desc = 'Position refreshing...', unit = 'birds', leave = False):\n",
    "            bird.refreshPosition(interval)\n",
    "        \n",
    "    def animationMatrix(self, alignWeight, sepWeight, stickWeight, boundryWeight, length, interval):\n",
    "        totalframes = int(length//interval)\n",
    "        x, y, z, u, w, v = np.zeros(shape=(totalframes, self.size)), np.zeros(shape=(totalframes, self.size)), np.zeros(shape=(totalframes, self.size)), np.zeros(shape=(totalframes, self.size)), np.zeros(shape=(totalframes, self.size)), np.zeros(shape=(totalframes, self.size)) \n",
    "        for frame in tqdm(range(totalframes), unit = 'frame', desc = 'Frames completed: '):\n",
    "            flockx, flocky, flockz, flocku, flockw, flockv = np.array([]), np.array([]), np.array([]), np.array([]), np.array([]), np.array([])\n",
    "            for bird in range(self.size):\n",
    "                flockx = np.append(flockx, self.birds[bird].position[0])\n",
    "                flocky = np.append(flocky, self.birds[bird].position[1])\n",
    "                flockz = np.append(flockz, self.birds[bird].position[2])\n",
    "                flocku = np.append(flocku, self.birds[bird].velocity[0])\n",
    "                flockw = np.append(flockw, self.birds[bird].velocity[1])\n",
    "                flockv = np.append(flockv, self.birds[bird].velocity[2])\n",
    "            x[frame] = flockx\n",
    "            y[frame] = flocky\n",
    "            z[frame] = flockz\n",
    "            u[frame] = flocku\n",
    "            w[frame] = flockw\n",
    "            v[frame] = flockv\n",
    "            self.refreshVelocities(alignWeight, sepWeight, stickWeight, boundryWeight, interval = interval)\n",
    "            self.refreshPositions(interval = interval)\n",
    "        return x, y, z, u, w, v\n",
    "        \n",
    "    def animate(self, alignWeight, sepWeight, stickWeight, boundryWeight, length, interval):\n",
    "        x, y, z, u, w, v = self.animationMatrix(alignWeight, sepWeight, stickWeight, boundryWeight, length, interval)\n",
    "        ipv.clear()\n",
    "        ipv.figure()\n",
    "        ipv.xlim(self.xmin, self.xmax)\n",
    "        ipv.ylim(self.ymin, self.ymax)\n",
    "        ipv.zlim(self.zmin, self.zmax)\n",
    "        ipv.style.axes_off()\n",
    "        ipv.style.box_off()\n",
    "\n",
    "        birds = ipv.quiver(x, y, z, u, w, v, color = 'black', size= .7)\n",
    "        ipv.animation_control(birds) # shows controls for animation controls\n",
    "        ipv.show()\n",
    "        \n",
    "    def __str__(self):\n",
    "        return ' '.join(str(e) for e in self.birds)\n"
   ]
  },
  {
   "cell_type": "code",
   "execution_count": 156,
   "metadata": {},
   "outputs": [
    {
     "data": {
      "application/vnd.jupyter.widget-view+json": {
       "model_id": "e3f0fc545e4a480f8457671ea7a79252",
       "version_major": 2,
       "version_minor": 0
      },
      "text/plain": [
       "HBox(children=(IntProgress(value=0, description='Frames completed: ', max=30, style=ProgressStyle(description_…"
      ]
     },
     "metadata": {},
     "output_type": "display_data"
    },
    {
     "data": {
      "application/vnd.jupyter.widget-view+json": {
       "model_id": "31a5afc71c2d4b1baf882d5145922ffe",
       "version_major": 2,
       "version_minor": 0
      },
      "text/plain": [
       "HBox(children=(IntProgress(value=0, description='Velocity refreshing...', max=400, style=ProgressStyle(descrip…"
      ]
     },
     "metadata": {},
     "output_type": "display_data"
    },
    {
     "data": {
      "application/vnd.jupyter.widget-view+json": {
       "model_id": "",
       "version_major": 2,
       "version_minor": 0
      },
      "text/plain": [
       "HBox(children=(IntProgress(value=0, description='Position refreshing...', max=400, style=ProgressStyle(descrip…"
      ]
     },
     "metadata": {},
     "output_type": "display_data"
    },
    {
     "data": {
      "application/vnd.jupyter.widget-view+json": {
       "model_id": "f518a031267148b7b2ec32fae8ef7503",
       "version_major": 2,
       "version_minor": 0
      },
      "text/plain": [
       "HBox(children=(IntProgress(value=0, description='Velocity refreshing...', max=400, style=ProgressStyle(descrip…"
      ]
     },
     "metadata": {},
     "output_type": "display_data"
    },
    {
     "data": {
      "application/vnd.jupyter.widget-view+json": {
       "model_id": "",
       "version_major": 2,
       "version_minor": 0
      },
      "text/plain": [
       "HBox(children=(IntProgress(value=0, description='Position refreshing...', max=400, style=ProgressStyle(descrip…"
      ]
     },
     "metadata": {},
     "output_type": "display_data"
    },
    {
     "data": {
      "application/vnd.jupyter.widget-view+json": {
       "model_id": "c57d5688b23c44f59e77861bd838d0a0",
       "version_major": 2,
       "version_minor": 0
      },
      "text/plain": [
       "HBox(children=(IntProgress(value=0, description='Velocity refreshing...', max=400, style=ProgressStyle(descrip…"
      ]
     },
     "metadata": {},
     "output_type": "display_data"
    },
    {
     "data": {
      "application/vnd.jupyter.widget-view+json": {
       "model_id": "",
       "version_major": 2,
       "version_minor": 0
      },
      "text/plain": [
       "HBox(children=(IntProgress(value=0, description='Position refreshing...', max=400, style=ProgressStyle(descrip…"
      ]
     },
     "metadata": {},
     "output_type": "display_data"
    },
    {
     "data": {
      "application/vnd.jupyter.widget-view+json": {
       "model_id": "cadb4d48b65f40dbbb51dd896012c71a",
       "version_major": 2,
       "version_minor": 0
      },
      "text/plain": [
       "HBox(children=(IntProgress(value=0, description='Velocity refreshing...', max=400, style=ProgressStyle(descrip…"
      ]
     },
     "metadata": {},
     "output_type": "display_data"
    },
    {
     "data": {
      "application/vnd.jupyter.widget-view+json": {
       "model_id": "",
       "version_major": 2,
       "version_minor": 0
      },
      "text/plain": [
       "HBox(children=(IntProgress(value=0, description='Position refreshing...', max=400, style=ProgressStyle(descrip…"
      ]
     },
     "metadata": {},
     "output_type": "display_data"
    },
    {
     "data": {
      "application/vnd.jupyter.widget-view+json": {
       "model_id": "96713ff0ce5a43508d9b1f3b08172306",
       "version_major": 2,
       "version_minor": 0
      },
      "text/plain": [
       "HBox(children=(IntProgress(value=0, description='Velocity refreshing...', max=400, style=ProgressStyle(descrip…"
      ]
     },
     "metadata": {},
     "output_type": "display_data"
    },
    {
     "data": {
      "application/vnd.jupyter.widget-view+json": {
       "model_id": "",
       "version_major": 2,
       "version_minor": 0
      },
      "text/plain": [
       "HBox(children=(IntProgress(value=0, description='Position refreshing...', max=400, style=ProgressStyle(descrip…"
      ]
     },
     "metadata": {},
     "output_type": "display_data"
    },
    {
     "data": {
      "application/vnd.jupyter.widget-view+json": {
       "model_id": "aec4e815ca9741d6888593cc90346966",
       "version_major": 2,
       "version_minor": 0
      },
      "text/plain": [
       "HBox(children=(IntProgress(value=0, description='Velocity refreshing...', max=400, style=ProgressStyle(descrip…"
      ]
     },
     "metadata": {},
     "output_type": "display_data"
    },
    {
     "data": {
      "application/vnd.jupyter.widget-view+json": {
       "model_id": "",
       "version_major": 2,
       "version_minor": 0
      },
      "text/plain": [
       "HBox(children=(IntProgress(value=0, description='Position refreshing...', max=400, style=ProgressStyle(descrip…"
      ]
     },
     "metadata": {},
     "output_type": "display_data"
    },
    {
     "data": {
      "application/vnd.jupyter.widget-view+json": {
       "model_id": "707e0a19def548f882fa038b0f3fbd2c",
       "version_major": 2,
       "version_minor": 0
      },
      "text/plain": [
       "HBox(children=(IntProgress(value=0, description='Velocity refreshing...', max=400, style=ProgressStyle(descrip…"
      ]
     },
     "metadata": {},
     "output_type": "display_data"
    },
    {
     "data": {
      "application/vnd.jupyter.widget-view+json": {
       "model_id": "",
       "version_major": 2,
       "version_minor": 0
      },
      "text/plain": [
       "HBox(children=(IntProgress(value=0, description='Position refreshing...', max=400, style=ProgressStyle(descrip…"
      ]
     },
     "metadata": {},
     "output_type": "display_data"
    },
    {
     "data": {
      "application/vnd.jupyter.widget-view+json": {
       "model_id": "cf112b05e75e43de9ea581a224661855",
       "version_major": 2,
       "version_minor": 0
      },
      "text/plain": [
       "HBox(children=(IntProgress(value=0, description='Velocity refreshing...', max=400, style=ProgressStyle(descrip…"
      ]
     },
     "metadata": {},
     "output_type": "display_data"
    },
    {
     "data": {
      "application/vnd.jupyter.widget-view+json": {
       "model_id": "",
       "version_major": 2,
       "version_minor": 0
      },
      "text/plain": [
       "HBox(children=(IntProgress(value=0, description='Position refreshing...', max=400, style=ProgressStyle(descrip…"
      ]
     },
     "metadata": {},
     "output_type": "display_data"
    },
    {
     "data": {
      "application/vnd.jupyter.widget-view+json": {
       "model_id": "1e17d3810eac417eafc55b76d314a398",
       "version_major": 2,
       "version_minor": 0
      },
      "text/plain": [
       "HBox(children=(IntProgress(value=0, description='Velocity refreshing...', max=400, style=ProgressStyle(descrip…"
      ]
     },
     "metadata": {},
     "output_type": "display_data"
    },
    {
     "data": {
      "application/vnd.jupyter.widget-view+json": {
       "model_id": "",
       "version_major": 2,
       "version_minor": 0
      },
      "text/plain": [
       "HBox(children=(IntProgress(value=0, description='Position refreshing...', max=400, style=ProgressStyle(descrip…"
      ]
     },
     "metadata": {},
     "output_type": "display_data"
    },
    {
     "data": {
      "application/vnd.jupyter.widget-view+json": {
       "model_id": "2cb607fae44b40708bbd83956fcd922b",
       "version_major": 2,
       "version_minor": 0
      },
      "text/plain": [
       "HBox(children=(IntProgress(value=0, description='Velocity refreshing...', max=400, style=ProgressStyle(descrip…"
      ]
     },
     "metadata": {},
     "output_type": "display_data"
    },
    {
     "data": {
      "application/vnd.jupyter.widget-view+json": {
       "model_id": "",
       "version_major": 2,
       "version_minor": 0
      },
      "text/plain": [
       "HBox(children=(IntProgress(value=0, description='Position refreshing...', max=400, style=ProgressStyle(descrip…"
      ]
     },
     "metadata": {},
     "output_type": "display_data"
    },
    {
     "data": {
      "application/vnd.jupyter.widget-view+json": {
       "model_id": "b938fdd1fae8496cad0577b5046142d0",
       "version_major": 2,
       "version_minor": 0
      },
      "text/plain": [
       "HBox(children=(IntProgress(value=0, description='Velocity refreshing...', max=400, style=ProgressStyle(descrip…"
      ]
     },
     "metadata": {},
     "output_type": "display_data"
    },
    {
     "data": {
      "application/vnd.jupyter.widget-view+json": {
       "model_id": "",
       "version_major": 2,
       "version_minor": 0
      },
      "text/plain": [
       "HBox(children=(IntProgress(value=0, description='Position refreshing...', max=400, style=ProgressStyle(descrip…"
      ]
     },
     "metadata": {},
     "output_type": "display_data"
    },
    {
     "data": {
      "application/vnd.jupyter.widget-view+json": {
       "model_id": "54545f6fc0fd42749f4494467730c20f",
       "version_major": 2,
       "version_minor": 0
      },
      "text/plain": [
       "HBox(children=(IntProgress(value=0, description='Velocity refreshing...', max=400, style=ProgressStyle(descrip…"
      ]
     },
     "metadata": {},
     "output_type": "display_data"
    },
    {
     "data": {
      "application/vnd.jupyter.widget-view+json": {
       "model_id": "",
       "version_major": 2,
       "version_minor": 0
      },
      "text/plain": [
       "HBox(children=(IntProgress(value=0, description='Position refreshing...', max=400, style=ProgressStyle(descrip…"
      ]
     },
     "metadata": {},
     "output_type": "display_data"
    },
    {
     "data": {
      "application/vnd.jupyter.widget-view+json": {
       "model_id": "f638586264cb4dbea74cd5ebe55c7b5b",
       "version_major": 2,
       "version_minor": 0
      },
      "text/plain": [
       "HBox(children=(IntProgress(value=0, description='Velocity refreshing...', max=400, style=ProgressStyle(descrip…"
      ]
     },
     "metadata": {},
     "output_type": "display_data"
    },
    {
     "data": {
      "application/vnd.jupyter.widget-view+json": {
       "model_id": "",
       "version_major": 2,
       "version_minor": 0
      },
      "text/plain": [
       "HBox(children=(IntProgress(value=0, description='Position refreshing...', max=400, style=ProgressStyle(descrip…"
      ]
     },
     "metadata": {},
     "output_type": "display_data"
    },
    {
     "data": {
      "application/vnd.jupyter.widget-view+json": {
       "model_id": "186dc3d51af442d7b949dcf840b4d8d9",
       "version_major": 2,
       "version_minor": 0
      },
      "text/plain": [
       "HBox(children=(IntProgress(value=0, description='Velocity refreshing...', max=400, style=ProgressStyle(descrip…"
      ]
     },
     "metadata": {},
     "output_type": "display_data"
    },
    {
     "data": {
      "application/vnd.jupyter.widget-view+json": {
       "model_id": "",
       "version_major": 2,
       "version_minor": 0
      },
      "text/plain": [
       "HBox(children=(IntProgress(value=0, description='Position refreshing...', max=400, style=ProgressStyle(descrip…"
      ]
     },
     "metadata": {},
     "output_type": "display_data"
    },
    {
     "data": {
      "application/vnd.jupyter.widget-view+json": {
       "model_id": "398f7c75cd584b6bbabfd09c18c7d127",
       "version_major": 2,
       "version_minor": 0
      },
      "text/plain": [
       "HBox(children=(IntProgress(value=0, description='Velocity refreshing...', max=400, style=ProgressStyle(descrip…"
      ]
     },
     "metadata": {},
     "output_type": "display_data"
    },
    {
     "data": {
      "application/vnd.jupyter.widget-view+json": {
       "model_id": "",
       "version_major": 2,
       "version_minor": 0
      },
      "text/plain": [
       "HBox(children=(IntProgress(value=0, description='Position refreshing...', max=400, style=ProgressStyle(descrip…"
      ]
     },
     "metadata": {},
     "output_type": "display_data"
    },
    {
     "data": {
      "application/vnd.jupyter.widget-view+json": {
       "model_id": "117592849f224c1fb31c48cc0c883e31",
       "version_major": 2,
       "version_minor": 0
      },
      "text/plain": [
       "HBox(children=(IntProgress(value=0, description='Velocity refreshing...', max=400, style=ProgressStyle(descrip…"
      ]
     },
     "metadata": {},
     "output_type": "display_data"
    },
    {
     "data": {
      "application/vnd.jupyter.widget-view+json": {
       "model_id": "",
       "version_major": 2,
       "version_minor": 0
      },
      "text/plain": [
       "HBox(children=(IntProgress(value=0, description='Position refreshing...', max=400, style=ProgressStyle(descrip…"
      ]
     },
     "metadata": {},
     "output_type": "display_data"
    },
    {
     "data": {
      "application/vnd.jupyter.widget-view+json": {
       "model_id": "325b715b60204b82b7dc2c5d1ecc5db0",
       "version_major": 2,
       "version_minor": 0
      },
      "text/plain": [
       "HBox(children=(IntProgress(value=0, description='Velocity refreshing...', max=400, style=ProgressStyle(descrip…"
      ]
     },
     "metadata": {},
     "output_type": "display_data"
    },
    {
     "data": {
      "application/vnd.jupyter.widget-view+json": {
       "model_id": "",
       "version_major": 2,
       "version_minor": 0
      },
      "text/plain": [
       "HBox(children=(IntProgress(value=0, description='Position refreshing...', max=400, style=ProgressStyle(descrip…"
      ]
     },
     "metadata": {},
     "output_type": "display_data"
    },
    {
     "data": {
      "application/vnd.jupyter.widget-view+json": {
       "model_id": "14fd2411ee73467e98353a585153ce04",
       "version_major": 2,
       "version_minor": 0
      },
      "text/plain": [
       "HBox(children=(IntProgress(value=0, description='Velocity refreshing...', max=400, style=ProgressStyle(descrip…"
      ]
     },
     "metadata": {},
     "output_type": "display_data"
    },
    {
     "data": {
      "application/vnd.jupyter.widget-view+json": {
       "model_id": "",
       "version_major": 2,
       "version_minor": 0
      },
      "text/plain": [
       "HBox(children=(IntProgress(value=0, description='Position refreshing...', max=400, style=ProgressStyle(descrip…"
      ]
     },
     "metadata": {},
     "output_type": "display_data"
    },
    {
     "data": {
      "application/vnd.jupyter.widget-view+json": {
       "model_id": "67f43ed8fd774e31a2c6f6fbdab8eefd",
       "version_major": 2,
       "version_minor": 0
      },
      "text/plain": [
       "HBox(children=(IntProgress(value=0, description='Velocity refreshing...', max=400, style=ProgressStyle(descrip…"
      ]
     },
     "metadata": {},
     "output_type": "display_data"
    },
    {
     "data": {
      "application/vnd.jupyter.widget-view+json": {
       "model_id": "",
       "version_major": 2,
       "version_minor": 0
      },
      "text/plain": [
       "HBox(children=(IntProgress(value=0, description='Position refreshing...', max=400, style=ProgressStyle(descrip…"
      ]
     },
     "metadata": {},
     "output_type": "display_data"
    },
    {
     "data": {
      "application/vnd.jupyter.widget-view+json": {
       "model_id": "b1e97f5e4e5946d98d0da11a362f6fc5",
       "version_major": 2,
       "version_minor": 0
      },
      "text/plain": [
       "HBox(children=(IntProgress(value=0, description='Velocity refreshing...', max=400, style=ProgressStyle(descrip…"
      ]
     },
     "metadata": {},
     "output_type": "display_data"
    },
    {
     "data": {
      "application/vnd.jupyter.widget-view+json": {
       "model_id": "",
       "version_major": 2,
       "version_minor": 0
      },
      "text/plain": [
       "HBox(children=(IntProgress(value=0, description='Position refreshing...', max=400, style=ProgressStyle(descrip…"
      ]
     },
     "metadata": {},
     "output_type": "display_data"
    },
    {
     "data": {
      "application/vnd.jupyter.widget-view+json": {
       "model_id": "8d74730c4c234e5ea1d18538fe3e0a31",
       "version_major": 2,
       "version_minor": 0
      },
      "text/plain": [
       "HBox(children=(IntProgress(value=0, description='Velocity refreshing...', max=400, style=ProgressStyle(descrip…"
      ]
     },
     "metadata": {},
     "output_type": "display_data"
    },
    {
     "data": {
      "application/vnd.jupyter.widget-view+json": {
       "model_id": "",
       "version_major": 2,
       "version_minor": 0
      },
      "text/plain": [
       "HBox(children=(IntProgress(value=0, description='Position refreshing...', max=400, style=ProgressStyle(descrip…"
      ]
     },
     "metadata": {},
     "output_type": "display_data"
    },
    {
     "data": {
      "application/vnd.jupyter.widget-view+json": {
       "model_id": "ee51673586084140b8f215ae209e6d3b",
       "version_major": 2,
       "version_minor": 0
      },
      "text/plain": [
       "HBox(children=(IntProgress(value=0, description='Velocity refreshing...', max=400, style=ProgressStyle(descrip…"
      ]
     },
     "metadata": {},
     "output_type": "display_data"
    },
    {
     "data": {
      "application/vnd.jupyter.widget-view+json": {
       "model_id": "",
       "version_major": 2,
       "version_minor": 0
      },
      "text/plain": [
       "HBox(children=(IntProgress(value=0, description='Position refreshing...', max=400, style=ProgressStyle(descrip…"
      ]
     },
     "metadata": {},
     "output_type": "display_data"
    },
    {
     "data": {
      "application/vnd.jupyter.widget-view+json": {
       "model_id": "de758e67a2744e80bf35dbfb967ebd38",
       "version_major": 2,
       "version_minor": 0
      },
      "text/plain": [
       "HBox(children=(IntProgress(value=0, description='Velocity refreshing...', max=400, style=ProgressStyle(descrip…"
      ]
     },
     "metadata": {},
     "output_type": "display_data"
    },
    {
     "data": {
      "application/vnd.jupyter.widget-view+json": {
       "model_id": "",
       "version_major": 2,
       "version_minor": 0
      },
      "text/plain": [
       "HBox(children=(IntProgress(value=0, description='Position refreshing...', max=400, style=ProgressStyle(descrip…"
      ]
     },
     "metadata": {},
     "output_type": "display_data"
    },
    {
     "data": {
      "application/vnd.jupyter.widget-view+json": {
       "model_id": "4eceefccd9a143839f8dd02abd7a22e8",
       "version_major": 2,
       "version_minor": 0
      },
      "text/plain": [
       "HBox(children=(IntProgress(value=0, description='Velocity refreshing...', max=400, style=ProgressStyle(descrip…"
      ]
     },
     "metadata": {},
     "output_type": "display_data"
    },
    {
     "data": {
      "application/vnd.jupyter.widget-view+json": {
       "model_id": "",
       "version_major": 2,
       "version_minor": 0
      },
      "text/plain": [
       "HBox(children=(IntProgress(value=0, description='Position refreshing...', max=400, style=ProgressStyle(descrip…"
      ]
     },
     "metadata": {},
     "output_type": "display_data"
    },
    {
     "data": {
      "application/vnd.jupyter.widget-view+json": {
       "model_id": "bf7ae3b6cb5846a3bc747e6367f7b84d",
       "version_major": 2,
       "version_minor": 0
      },
      "text/plain": [
       "HBox(children=(IntProgress(value=0, description='Velocity refreshing...', max=400, style=ProgressStyle(descrip…"
      ]
     },
     "metadata": {},
     "output_type": "display_data"
    },
    {
     "data": {
      "application/vnd.jupyter.widget-view+json": {
       "model_id": "",
       "version_major": 2,
       "version_minor": 0
      },
      "text/plain": [
       "HBox(children=(IntProgress(value=0, description='Position refreshing...', max=400, style=ProgressStyle(descrip…"
      ]
     },
     "metadata": {},
     "output_type": "display_data"
    },
    {
     "data": {
      "application/vnd.jupyter.widget-view+json": {
       "model_id": "e443243efcd34add85266ef88e4cd91b",
       "version_major": 2,
       "version_minor": 0
      },
      "text/plain": [
       "HBox(children=(IntProgress(value=0, description='Velocity refreshing...', max=400, style=ProgressStyle(descrip…"
      ]
     },
     "metadata": {},
     "output_type": "display_data"
    },
    {
     "data": {
      "application/vnd.jupyter.widget-view+json": {
       "model_id": "",
       "version_major": 2,
       "version_minor": 0
      },
      "text/plain": [
       "HBox(children=(IntProgress(value=0, description='Position refreshing...', max=400, style=ProgressStyle(descrip…"
      ]
     },
     "metadata": {},
     "output_type": "display_data"
    },
    {
     "data": {
      "application/vnd.jupyter.widget-view+json": {
       "model_id": "536b3ee2bb984ad4925da6b3c96725af",
       "version_major": 2,
       "version_minor": 0
      },
      "text/plain": [
       "HBox(children=(IntProgress(value=0, description='Velocity refreshing...', max=400, style=ProgressStyle(descrip…"
      ]
     },
     "metadata": {},
     "output_type": "display_data"
    },
    {
     "data": {
      "application/vnd.jupyter.widget-view+json": {
       "model_id": "",
       "version_major": 2,
       "version_minor": 0
      },
      "text/plain": [
       "HBox(children=(IntProgress(value=0, description='Position refreshing...', max=400, style=ProgressStyle(descrip…"
      ]
     },
     "metadata": {},
     "output_type": "display_data"
    },
    {
     "data": {
      "application/vnd.jupyter.widget-view+json": {
       "model_id": "106aaee3db804f29a5852cf8a561effa",
       "version_major": 2,
       "version_minor": 0
      },
      "text/plain": [
       "HBox(children=(IntProgress(value=0, description='Velocity refreshing...', max=400, style=ProgressStyle(descrip…"
      ]
     },
     "metadata": {},
     "output_type": "display_data"
    },
    {
     "data": {
      "application/vnd.jupyter.widget-view+json": {
       "model_id": "",
       "version_major": 2,
       "version_minor": 0
      },
      "text/plain": [
       "HBox(children=(IntProgress(value=0, description='Position refreshing...', max=400, style=ProgressStyle(descrip…"
      ]
     },
     "metadata": {},
     "output_type": "display_data"
    },
    {
     "data": {
      "application/vnd.jupyter.widget-view+json": {
       "model_id": "e69ccef8924b467db863b0953f779902",
       "version_major": 2,
       "version_minor": 0
      },
      "text/plain": [
       "HBox(children=(IntProgress(value=0, description='Velocity refreshing...', max=400, style=ProgressStyle(descrip…"
      ]
     },
     "metadata": {},
     "output_type": "display_data"
    },
    {
     "data": {
      "application/vnd.jupyter.widget-view+json": {
       "model_id": "",
       "version_major": 2,
       "version_minor": 0
      },
      "text/plain": [
       "HBox(children=(IntProgress(value=0, description='Position refreshing...', max=400, style=ProgressStyle(descrip…"
      ]
     },
     "metadata": {},
     "output_type": "display_data"
    },
    {
     "data": {
      "application/vnd.jupyter.widget-view+json": {
       "model_id": "27deb544585b47ee90037cad17c49bd5",
       "version_major": 2,
       "version_minor": 0
      },
      "text/plain": [
       "HBox(children=(IntProgress(value=0, description='Velocity refreshing...', max=400, style=ProgressStyle(descrip…"
      ]
     },
     "metadata": {},
     "output_type": "display_data"
    },
    {
     "data": {
      "application/vnd.jupyter.widget-view+json": {
       "model_id": "",
       "version_major": 2,
       "version_minor": 0
      },
      "text/plain": [
       "HBox(children=(IntProgress(value=0, description='Position refreshing...', max=400, style=ProgressStyle(descrip…"
      ]
     },
     "metadata": {},
     "output_type": "display_data"
    },
    {
     "name": "stdout",
     "output_type": "stream",
     "text": [
      "\n"
     ]
    },
    {
     "data": {
      "application/vnd.jupyter.widget-view+json": {
       "model_id": "26791546500c489584d88d7189f9d236",
       "version_major": 2,
       "version_minor": 0
      },
      "text/plain": [
       "VBox(children=(Figure(animation=200.0, camera=PerspectiveCamera(fov=46.0, position=(0.0, 0.0, 2.0), quaternion…"
      ]
     },
     "metadata": {},
     "output_type": "display_data"
    },
    {
     "name": "stdout",
     "output_type": "stream",
     "text": [
      "Completed\n"
     ]
    }
   ],
   "source": [
    "########################\n",
    "#         TEST         #\n",
    "########################\n",
    "\n",
    "flock = Flock()\n",
    "flock.generate(size = 400)\n",
    "\n",
    "flock.animate(alignWeight = 2, sepWeight = 3, stickWeight = 0, boundryWeight = 10, length = 15, interval = .5)\n",
    "\n",
    "# print('The flock center is: ', flock.center())\n",
    "# flock.plot()\n",
    "# flock.plotConnections(5)\n",
    "# flock.refreshVelocities(1.5)\n",
    "# flock.plot()\n",
    "# flock.plotConnections(5)\n",
    "\n",
    "\n",
    "####################\n",
    "#       NOTES      #\n",
    "####################\n",
    "# Align Works :)\n",
    "# Sep Works :)\n",
    "# STICK DOES NOT WORK :(((((((( \n",
    "# Boundry works\n",
    "print(\"Completed\")"
   ]
  },
  {
   "cell_type": "code",
   "execution_count": null,
   "metadata": {},
   "outputs": [],
   "source": []
  }
 ],
 "metadata": {
  "kernelspec": {
   "display_name": "Python 3",
   "language": "python",
   "name": "python3"
  },
  "language_info": {
   "codemirror_mode": {
    "name": "ipython",
    "version": 3
   },
   "file_extension": ".py",
   "mimetype": "text/x-python",
   "name": "python",
   "nbconvert_exporter": "python",
   "pygments_lexer": "ipython3",
   "version": "3.7.3"
  }
 },
 "nbformat": 4,
 "nbformat_minor": 2
}
