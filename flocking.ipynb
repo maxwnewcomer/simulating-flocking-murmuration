{
 "cells": [
  {
   "cell_type": "code",
   "execution_count": 2,
   "metadata": {},
   "outputs": [],
   "source": [
    "from random import uniform as randFloat\n",
    "from tqdm import tqdm_notebook as tqdm\n",
    "from statistics import mean\n",
    "import ipyvolume.pylab as ipv\n",
    "import numpy as np\n",
    "import time\n",
    "import math"
   ]
  },
  {
   "cell_type": "code",
   "execution_count": 48,
   "metadata": {},
   "outputs": [],
   "source": [
    "class Bird():\n",
    "    def __init__(self, id, flock, position, velocity = [0, 0, 0]):\n",
    "        self.position = position\n",
    "        self.velocity = velocity\n",
    "        self.nearestneighbors = []\n",
    "        self.flock = flock\n",
    "        self.id = id\n",
    "        \n",
    "    def nearme(self):\n",
    "        \"\"\"\n",
    "        determines 7 nearest neighbors\n",
    "        \"\"\"\n",
    "        #close = math.sqrt(math.pow(self.flock.xmax - self.flock.xmin, 2), math.pow(self.flock.ymax - self.flock.ymin, 2), math.pow(self.flock.zmax - self.flock.zmin, 2))\n",
    "        close = 999999\n",
    "        closest = [close, close, close, close, close, close, close]\n",
    "        closestbirds = [0, 0, 0, 0, 0, 0, 0]\n",
    "        for i in range(7):\n",
    "            for bird in range(self.flock.size):\n",
    "                if (bird != self.id):\n",
    "                    distance = math.sqrt(math.pow(self.position[0] - self.flock.birds[bird].position[0], 2) + math.pow(self.position[1] - self.flock.birds[bird].position[1], 2) + math.pow(self.position[2] - self.flock.birds[bird].position[2], 2))\n",
    "                    if (bird not in closestbirds):\n",
    "                        if (distance < closest[i]):\n",
    "                            closestbirds[i] = bird\n",
    "                            closest[i] = distance\n",
    "        self.nearestneighbors.append(closestbirds)\n",
    "        return closestbirds\n",
    "    \n",
    "    def qsnearme(self):\n",
    "        distFlockBirds = []\n",
    "        numFlockBirds = []\n",
    "        for bird in range(self.flock.size):\n",
    "            distFlockBirds.append(math.sqrt(math.pow(self.position[0] - self.flock.birds[bird].position[0], 2) + math.pow(self.position[1] - self.flock.birds[bird].position[1], 2) + math.pow(self.position[2] - self.flock.birds[bird].position[2], 2)))\n",
    "        for i in range(self.flock.size):\n",
    "            numFlockBirds.append(i) \n",
    "        l = len(distFlockBirds)\n",
    "        self.quickSort(distFlockBirds, numFlockBirds, 0, l-1)\n",
    "        numFlockBirds.remove(self.id)\n",
    "        self.nearestneighbors = numFlockBirds[:7]\n",
    "        \n",
    "    def partition(self, arr, numarr, low, high): \n",
    "        i = (low-1)\n",
    "        pivot = arr[high]\n",
    "        for j in range(low , high): \n",
    "            if   arr[j] <= pivot: \n",
    "                i = i+1 \n",
    "                arr[i],arr[j] = arr[j],arr[i]\n",
    "                numarr[i], numarr[j] = numarr[j], numarr[i]\n",
    "        arr[i+1],arr[high] = arr[high],arr[i+1]\n",
    "        numarr[i+1],numarr[high] = numarr[high],numarr[i+1]\n",
    "        return (i+1) \n",
    "\n",
    "    def quickSort(self, arr, numarr, low, high): \n",
    "        if low < high: \n",
    "            p = self.partition(arr, numarr, low, high) \n",
    "            self.quickSort(arr, numarr, low, p - 1) \n",
    "            self.quickSort(arr, numarr, p + 1, high) \n",
    "        \n",
    "    def align(self, variability = 1):\n",
    "        \"\"\"\n",
    "        Aligns itself by determining velocity based on 7 nearest neighbors\n",
    "        \"\"\"\n",
    "        output = [0, 0, 0]\n",
    "        self.qsnearme()\n",
    "        for j in range(3):\n",
    "            output[j] = sum(self.flock.birds[self.nearestneighbors[i]].velocity[j] for i in range(7))/len(self.nearestneighbors) + randFloat(-variability, variability)\n",
    "        return output\n",
    "\n",
    "    def separate(self):\n",
    "        xforces, yforces, zforces = [], [], []\n",
    "        for bird in self.nearestneighbors:\n",
    "            distancex, distancey, distancez = self.position[0] - self.flock.birds[bird].position[0], self.position[1] - self.flock.birds[bird].position[1], self.position[2] - self.flock.birds[bird].position[2]\n",
    "            xforce, yforce, zforce = -1/distancex, -1/distancey, -1/distancez\n",
    "            xforces.append(xforce)\n",
    "            yforces.append(yforce)\n",
    "            zforces.append(zforce)\n",
    "        output = [mean(xforces), mean(yforces), mean(zforces)]\n",
    "        maximum = 0\n",
    "        for i in output:\n",
    "            if(abs(i) > maximum):\n",
    "                maximum = abs(i)\n",
    "        output[0] = output[0] / maximum\n",
    "        output[1] = output[1] / maximum\n",
    "        output[2] = output[2] / maximum\n",
    "        return output\n",
    "    \n",
    "    def wallforce(self):\n",
    "        xforces, yforces, zforces = [], [], []\n",
    "        for bird in self.nearestneighbors:\n",
    "            distancexmin, distanceymin, distancezmin = self.position[0] - self.flock.xmin, self.position[1] - self.flock.ymin, self.position[2] - self.flock.zmin\n",
    "            distancexmax, distanceymax, distancezmax = self.flock.xmax - self.position[0], self.flock.ymax - self.position[1], self.flock.zmax - self.position[2]\n",
    "            xfactor, yfactor, zfactor = 1, 1, 1\n",
    "            if(distancexmax <= distancexmin):\n",
    "                distancex = distancexmax\n",
    "            else:\n",
    "                distancex = distancexmin\n",
    "                xfactor = -1\n",
    "            if(distanceymax <= distanceymin):\n",
    "                distancey = distanceymax\n",
    "            else:\n",
    "                distancey = distanceymin\n",
    "                yfactor = -1\n",
    "            if(distancezmax <= distancezmin):\n",
    "                distancez = distancezmax\n",
    "                \n",
    "            else:\n",
    "                distancez = distancezmin\n",
    "                zfactor = -1\n",
    "            xforce, yforce, zforce = math.log(abs(distancex), .05), math.log(abs(distancey), .05), math.log(abs(distancez), .05)\n",
    "            xforces.append(xfactor*xforce)\n",
    "            yforces.append(yfactor*yforce)\n",
    "            zforces.append(zfactor*zforce)\n",
    "        output = [mean(xforces), mean(yforces), mean(zforces)]\n",
    "        maximum = 0\n",
    "        for i in output:\n",
    "            if(abs(i) > maximum):\n",
    "                maximum = abs(i)\n",
    "        output[0] = output[0] / maximum\n",
    "        output[1] = output[1] / maximum\n",
    "        output[2] = output[2] / maximum\n",
    "        return output\n",
    "    \n",
    "    def stick(self):\n",
    "        output = [0, 0, 0]\n",
    "        midpoint = [0, 0, 0]\n",
    "        for j in range(3):\n",
    "            midpoint[j] = sum(self.flock.birds[self.nearestneighbors[i]].position[j] for i in range(7))/len(self.nearestneighbors) \n",
    "        output[0], output[1], output[2] = self.position[0] - midpoint[0], self.position[1] - midpoint[1], self.position[2] - midpoint[2]\n",
    "        maximum = 0\n",
    "        for i in output:\n",
    "            if(abs(i) > maximum):\n",
    "                maximum = abs(i)\n",
    "        output[0] = output[0] / maximum\n",
    "        output[1] = output[1] / maximum\n",
    "        output[2] = output[2] / maximum\n",
    "        return output\n",
    "    \n",
    "    def applyForce(self, initial, force, weight, interval):\n",
    "        output = initial\n",
    "        for i in range(3):\n",
    "            output[i] = output[i] + weight*(force[i]*interval)\n",
    "        return output\n",
    "    \n",
    "    def refreshVelocity(self, variability, sepWeight, stickWeight, boundryWeight, interval):\n",
    "        \"\"\"\n",
    "        Combines multiple forces to output final velocity\n",
    "        \"\"\"\n",
    "        output = self.align(variability)\n",
    "        output = self.applyForce(output, self.separate(),sepWeight, interval)\n",
    "        output = self.applyForce(output, self.stick(), stickWeight, interval)\n",
    "        output = self.applyForce(output, self.wallforce(), boundryWeight, interval)\n",
    "        self.velocity = output\n",
    "    \n",
    "    def refreshPosition(self, interval):\n",
    "        for i in range(3):\n",
    "            self.position[i] = self.position[i] + interval * self.velocity[i]\n",
    "        "
   ]
  },
  {
   "cell_type": "code",
   "execution_count": 49,
   "metadata": {},
   "outputs": [],
   "source": [
    "class Flock():\n",
    "    def __init__(self, xmin = 0, xmax = 100, ymin = 0, ymax = 100, zmin = 0, zmax = 100):\n",
    "        self.xmin = xmin\n",
    "        self.xmax = xmax\n",
    "        self.ymin = ymin\n",
    "        self.ymax = ymax\n",
    "        self.zmin = zmin\n",
    "        self.zmax = zmax\n",
    "        self.birds = []\n",
    "        self.size = 0\n",
    "        \n",
    "    def center(self):\n",
    "        center = [0, 0, 0]\n",
    "        if (self.size == 0):\n",
    "            center = [(self.xmax - self.xmin)/2, (self.ymax - self.xmin)/ 2, (self.xmax - self.xmin)/2]\n",
    "        else:  \n",
    "            for i in range(self.size):\n",
    "                center[0] += self.birds[i].position[0]\n",
    "                center[1] += self.birds[i].position[1]\n",
    "                center[2] += self.birds[i].position[2]\n",
    "            center[0] = center[0] / self.size\n",
    "            center[1] = center[1] / self.size\n",
    "            center[2] = center[2] / self.size\n",
    "        return center\n",
    "    \n",
    "    def distance(self, bird1, bird2):\n",
    "        distance = math.sqrt(math.pow(bird1.position[0] - bird2.position[0], 2) + math.pow(bird1.position[1] - bird2.position[1], 2) + math.pow(bird1.position[2] - bird2.position[2], 2))\n",
    "        return distance\n",
    "        \n",
    "    def boundries(self):\n",
    "        return [self.xmin, self.xmax, self.ymin, self.ymax, self.zmin, self.zmax]\n",
    "        \n",
    "    def generate(self, size = 100, velocityMin = -10, velocityMax = 10):\n",
    "        for i in range(size):\n",
    "            x, y, z = randFloat(self.xmin + self.xmax/20, (self.xmax - self.xmax/20)), randFloat(self.ymin + self.ymax/20, (self.ymax - self.ymax/20)), randFloat(self.zmin + self.zmax/20, (self.zmax - self.zmax/20))\n",
    "            u, w, v = randFloat(velocityMin, velocityMax), randFloat(velocityMin, velocityMax), randFloat(velocityMin, velocityMax)\n",
    "            newBird = Bird(id = i, flock = self, position = [x, y, z], velocity = [u, w, v])\n",
    "            self.birds.append(newBird)\n",
    "            self.size = len(self.birds)\n",
    "            del newBird\n",
    "\n",
    "    def plotConnections(self, limit):\n",
    "        for mainbird in tqdm(range(limit), unit = 'birds'): \n",
    "            for bird in flock.birds[mainbird].nearme():\n",
    "                x1, x2 = flock.birds[mainbird].position[0], flock.birds[bird].position[0]\n",
    "                y1, y2 = flock.birds[mainbird].position[1], flock.birds[bird].position[1]\n",
    "                z1, z2 = flock.birds[mainbird].position[2], flock.birds[bird].position[2]\n",
    "                x, y, z = np.array([x1, x2]), np.array([y1, y2]), np.array([z1, z2])\n",
    "                ipv.plot(x, y, z, size = .1)\n",
    "                time.sleep(.01)\n",
    "            time.sleep(.1)\n",
    "\n",
    "    def plot(self):\n",
    "        flockx, flocky, flockz = np.array([]), np.array([]), np.array([])\n",
    "        flocku, flockv, flockw = np.array([]), np.array([]), np.array([])\n",
    "        for bird in range(self.size):\n",
    "            flockx = np.append(flockx, self.birds[bird].position[0])\n",
    "            flocky = np.append(flocky, self.birds[bird].position[1])\n",
    "            flockz = np.append(flockz, self.birds[bird].position[2])\n",
    "            flocku = np.append(flocku, self.birds[bird].velocity[0])\n",
    "            flockv = np.append(flockv, self.birds[bird].velocity[1])\n",
    "            flockw = np.append(flockw, self.birds[bird].velocity[2])\n",
    "        centerx, centery, centerz = np.array([self.center()[0]]), np.array([self.center()[1]]), np.array([self.center()[1]])\n",
    "        ipv.clear()\n",
    "        ipv.xlim(self.xmin, self.xmax)\n",
    "        ipv.ylim(self.ymin, self.ymax)\n",
    "        ipv.zlim(self.zmin, self.zmax)\n",
    "        flock = ipv.quiver(flockx, flocky, flockz, flocku, flockv, flockw, color='black', size = 1.5)\n",
    "        center = ipv.scatter(centerx, centery, centerz, marker = 'sphere', color = 'blue', size = 2)\n",
    "        ipv.style.axes_off()\n",
    "        ipv.style.box_off()\n",
    "        ipv.show()\n",
    "\n",
    "    def refreshVelocities(self, variability, sepWeight = 3, stickWeight = 5, boundryWeight = 5, interval = 1):\n",
    "        for bird in tqdm(self.birds, total = self.size, desc = 'Velocity refreshing...', unit = 'birds'):\n",
    "            bird.refreshVelocity(variability = variability, sepWeight = sepWeight, stickWeight = stickWeight, boundryWeight = boundryWeight, interval = interval)\n",
    "            \n",
    "    def refreshPositions(self, interval = 1):\n",
    "        for bird in tqdm(self.birds, total = self.size, desc = 'Position refreshing...', unit = 'birds'):\n",
    "            bird.refreshPosition(interval)\n",
    "        \n",
    "    def animationMatrix(self, variability, sepWeight, stickWeight, boundryWeight, length, interval, showCenter):\n",
    "        x, y, z, u, w, v = np.zeros(shape=(length//interval, self.size)), np.zeros(shape=(length//interval, self.size)), np.zeros(shape=(length//interval, self.size)), np.zeros(shape=(length//interval, self.size)), np.zeros(shape=(length//interval, self.size)), np.zeros(shape=(length//interval, self.size))\n",
    "        for frame in tqdm(range(length//interval), unit = 'frame', desc = 'Frames completed: '):\n",
    "            flockx, flocky, flockz, flocku, flockw, flockv = np.array([]), np.array([]), np.array([]), np.array([]), np.array([]), np.array([])\n",
    "            for bird in range(self.size):\n",
    "                flockx = np.append(flockx, self.birds[bird].position[0])\n",
    "                flocky = np.append(flocky, self.birds[bird].position[1])\n",
    "                flockz = np.append(flockz, self.birds[bird].position[2])\n",
    "                flocku = np.append(flocku, self.birds[bird].velocity[0])\n",
    "                flockw = np.append(flockw, self.birds[bird].velocity[1])\n",
    "                flockv = np.append(flockv, self.birds[bird].velocity[2])\n",
    "            x[frame] = flockx\n",
    "            y[frame] = flocky\n",
    "            z[frame] = flockz\n",
    "            u[frame] = flocku\n",
    "            w[frame] = flockw\n",
    "            v[frame] = flockv\n",
    "            self.refreshVelocities(variability = variability, sepWeight = sepWeight, stickWeight = stickWeight, boundryWeight = boundryWeight, interval = interval)\n",
    "            self.refreshPositions(interval = interval)\n",
    "        return x, y, z, u, w, v\n",
    "        \n",
    "    def animate(self, variability, sepWeight, stickWeight, boundryWeight, length, interval, showCenter = False):\n",
    "        x, y, z, u, w, v = self.animationMatrix(variability, sepWeight, stickWeight, boundryWeight, length, interval, showCenter)\n",
    "        print(x)\n",
    "        ipv.clear()\n",
    "        ipv.figure()\n",
    "        ipv.xlim(self.xmin, self.xmax)\n",
    "        ipv.ylim(self.ymin, self.ymax)\n",
    "        ipv.zlim(self.zmin, self.zmax)\n",
    "        ipv.style.axes_off()\n",
    "        ipv.style.box_off()\n",
    "        birds = ipv.quiver(x, y, z, u, w, v, color = 'black', size=1)\n",
    "        ipv.animation_control(birds) # shows controls for animation controls\n",
    "        ipv.show()\n",
    "        \n",
    "    def __str__(self):\n",
    "        return ' '.join(str(e) for e in self.birds)\n"
   ]
  },
  {
   "cell_type": "code",
   "execution_count": 51,
   "metadata": {},
   "outputs": [
    {
     "data": {
      "application/vnd.jupyter.widget-view+json": {
       "model_id": "d02ee34e35f14bc282840ab8229eff64",
       "version_major": 2,
       "version_minor": 0
      },
      "text/plain": [
       "HBox(children=(IntProgress(value=0, description='Frames completed: ', max=50, style=ProgressStyle(description_…"
      ]
     },
     "metadata": {},
     "output_type": "display_data"
    },
    {
     "data": {
      "application/vnd.jupyter.widget-view+json": {
       "model_id": "e4b26883e25c45a28da42dab0690824e",
       "version_major": 2,
       "version_minor": 0
      },
      "text/plain": [
       "HBox(children=(IntProgress(value=0, description='Velocity refreshing...', max=1500, style=ProgressStyle(descri…"
      ]
     },
     "metadata": {},
     "output_type": "display_data"
    },
    {
     "data": {
      "application/vnd.jupyter.widget-view+json": {
       "model_id": "6baacaaabbdd4cbcaa6d7dd20dab180f",
       "version_major": 2,
       "version_minor": 0
      },
      "text/plain": [
       "HBox(children=(IntProgress(value=0, description='Position refreshing...', max=1500, style=ProgressStyle(descri…"
      ]
     },
     "metadata": {},
     "output_type": "display_data"
    },
    {
     "data": {
      "application/vnd.jupyter.widget-view+json": {
       "model_id": "a29c1db34bb04ceebd024fdcfef09fad",
       "version_major": 2,
       "version_minor": 0
      },
      "text/plain": [
       "HBox(children=(IntProgress(value=0, description='Velocity refreshing...', max=1500, style=ProgressStyle(descri…"
      ]
     },
     "metadata": {},
     "output_type": "display_data"
    },
    {
     "data": {
      "application/vnd.jupyter.widget-view+json": {
       "model_id": "4e00442652884227aa01f97ef0d97890",
       "version_major": 2,
       "version_minor": 0
      },
      "text/plain": [
       "HBox(children=(IntProgress(value=0, description='Position refreshing...', max=1500, style=ProgressStyle(descri…"
      ]
     },
     "metadata": {},
     "output_type": "display_data"
    },
    {
     "data": {
      "application/vnd.jupyter.widget-view+json": {
       "model_id": "59e5c41bb5e14fcf8711ec0fa2f32575",
       "version_major": 2,
       "version_minor": 0
      },
      "text/plain": [
       "HBox(children=(IntProgress(value=0, description='Velocity refreshing...', max=1500, style=ProgressStyle(descri…"
      ]
     },
     "metadata": {},
     "output_type": "display_data"
    },
    {
     "data": {
      "application/vnd.jupyter.widget-view+json": {
       "model_id": "db0d1a9aabee45baaf3c87fc3e1bffa3",
       "version_major": 2,
       "version_minor": 0
      },
      "text/plain": [
       "HBox(children=(IntProgress(value=0, description='Position refreshing...', max=1500, style=ProgressStyle(descri…"
      ]
     },
     "metadata": {},
     "output_type": "display_data"
    },
    {
     "data": {
      "application/vnd.jupyter.widget-view+json": {
       "model_id": "5bff7d45825a41608548954a3d5adea1",
       "version_major": 2,
       "version_minor": 0
      },
      "text/plain": [
       "HBox(children=(IntProgress(value=0, description='Velocity refreshing...', max=1500, style=ProgressStyle(descri…"
      ]
     },
     "metadata": {},
     "output_type": "display_data"
    },
    {
     "data": {
      "application/vnd.jupyter.widget-view+json": {
       "model_id": "068c0e74af5a40ccb98b62788480bdde",
       "version_major": 2,
       "version_minor": 0
      },
      "text/plain": [
       "HBox(children=(IntProgress(value=0, description='Position refreshing...', max=1500, style=ProgressStyle(descri…"
      ]
     },
     "metadata": {},
     "output_type": "display_data"
    },
    {
     "data": {
      "application/vnd.jupyter.widget-view+json": {
       "model_id": "0152cf246fd6427098491ed556e75691",
       "version_major": 2,
       "version_minor": 0
      },
      "text/plain": [
       "HBox(children=(IntProgress(value=0, description='Velocity refreshing...', max=1500, style=ProgressStyle(descri…"
      ]
     },
     "metadata": {},
     "output_type": "display_data"
    },
    {
     "data": {
      "application/vnd.jupyter.widget-view+json": {
       "model_id": "0805cf3437f5494caa27ebcb45974f5f",
       "version_major": 2,
       "version_minor": 0
      },
      "text/plain": [
       "HBox(children=(IntProgress(value=0, description='Position refreshing...', max=1500, style=ProgressStyle(descri…"
      ]
     },
     "metadata": {},
     "output_type": "display_data"
    },
    {
     "data": {
      "application/vnd.jupyter.widget-view+json": {
       "model_id": "da5bd31a86fd40918543f716f649b613",
       "version_major": 2,
       "version_minor": 0
      },
      "text/plain": [
       "HBox(children=(IntProgress(value=0, description='Velocity refreshing...', max=1500, style=ProgressStyle(descri…"
      ]
     },
     "metadata": {},
     "output_type": "display_data"
    },
    {
     "data": {
      "application/vnd.jupyter.widget-view+json": {
       "model_id": "f4b0ad73bbd847cb8f56db767126ccfb",
       "version_major": 2,
       "version_minor": 0
      },
      "text/plain": [
       "HBox(children=(IntProgress(value=0, description='Position refreshing...', max=1500, style=ProgressStyle(descri…"
      ]
     },
     "metadata": {},
     "output_type": "display_data"
    },
    {
     "data": {
      "application/vnd.jupyter.widget-view+json": {
       "model_id": "8f8ab70feb4c4fc19da4f45be4e121a5",
       "version_major": 2,
       "version_minor": 0
      },
      "text/plain": [
       "HBox(children=(IntProgress(value=0, description='Velocity refreshing...', max=1500, style=ProgressStyle(descri…"
      ]
     },
     "metadata": {},
     "output_type": "display_data"
    },
    {
     "data": {
      "application/vnd.jupyter.widget-view+json": {
       "model_id": "0992a187f0704e3bbf37e34a5aa7b9da",
       "version_major": 2,
       "version_minor": 0
      },
      "text/plain": [
       "HBox(children=(IntProgress(value=0, description='Position refreshing...', max=1500, style=ProgressStyle(descri…"
      ]
     },
     "metadata": {},
     "output_type": "display_data"
    },
    {
     "data": {
      "application/vnd.jupyter.widget-view+json": {
       "model_id": "99b88a1c5567458289e8d3decbbf70d5",
       "version_major": 2,
       "version_minor": 0
      },
      "text/plain": [
       "HBox(children=(IntProgress(value=0, description='Velocity refreshing...', max=1500, style=ProgressStyle(descri…"
      ]
     },
     "metadata": {},
     "output_type": "display_data"
    },
    {
     "data": {
      "application/vnd.jupyter.widget-view+json": {
       "model_id": "fc2662da7d77404a9f76ace534516211",
       "version_major": 2,
       "version_minor": 0
      },
      "text/plain": [
       "HBox(children=(IntProgress(value=0, description='Position refreshing...', max=1500, style=ProgressStyle(descri…"
      ]
     },
     "metadata": {},
     "output_type": "display_data"
    },
    {
     "data": {
      "application/vnd.jupyter.widget-view+json": {
       "model_id": "4bec57c74fc74c09ac196170c1c31fd2",
       "version_major": 2,
       "version_minor": 0
      },
      "text/plain": [
       "HBox(children=(IntProgress(value=0, description='Velocity refreshing...', max=1500, style=ProgressStyle(descri…"
      ]
     },
     "metadata": {},
     "output_type": "display_data"
    },
    {
     "data": {
      "application/vnd.jupyter.widget-view+json": {
       "model_id": "de383453da5a47de81db06b51e95ca39",
       "version_major": 2,
       "version_minor": 0
      },
      "text/plain": [
       "HBox(children=(IntProgress(value=0, description='Position refreshing...', max=1500, style=ProgressStyle(descri…"
      ]
     },
     "metadata": {},
     "output_type": "display_data"
    },
    {
     "data": {
      "application/vnd.jupyter.widget-view+json": {
       "model_id": "73de1710e5f44a32be3dcf25797d4e1f",
       "version_major": 2,
       "version_minor": 0
      },
      "text/plain": [
       "HBox(children=(IntProgress(value=0, description='Velocity refreshing...', max=1500, style=ProgressStyle(descri…"
      ]
     },
     "metadata": {},
     "output_type": "display_data"
    },
    {
     "data": {
      "application/vnd.jupyter.widget-view+json": {
       "model_id": "723ee8609f894bf1a1f4a7f974e4e899",
       "version_major": 2,
       "version_minor": 0
      },
      "text/plain": [
       "HBox(children=(IntProgress(value=0, description='Position refreshing...', max=1500, style=ProgressStyle(descri…"
      ]
     },
     "metadata": {},
     "output_type": "display_data"
    },
    {
     "data": {
      "application/vnd.jupyter.widget-view+json": {
       "model_id": "9cf13796efb240faa5b04b6d6b5fdfd5",
       "version_major": 2,
       "version_minor": 0
      },
      "text/plain": [
       "HBox(children=(IntProgress(value=0, description='Velocity refreshing...', max=1500, style=ProgressStyle(descri…"
      ]
     },
     "metadata": {},
     "output_type": "display_data"
    },
    {
     "data": {
      "application/vnd.jupyter.widget-view+json": {
       "model_id": "23a4c572654f46e1bd480b38eb06c065",
       "version_major": 2,
       "version_minor": 0
      },
      "text/plain": [
       "HBox(children=(IntProgress(value=0, description='Position refreshing...', max=1500, style=ProgressStyle(descri…"
      ]
     },
     "metadata": {},
     "output_type": "display_data"
    },
    {
     "data": {
      "application/vnd.jupyter.widget-view+json": {
       "model_id": "19d0fd82d2f04b19a21473db14319821",
       "version_major": 2,
       "version_minor": 0
      },
      "text/plain": [
       "HBox(children=(IntProgress(value=0, description='Velocity refreshing...', max=1500, style=ProgressStyle(descri…"
      ]
     },
     "metadata": {},
     "output_type": "display_data"
    },
    {
     "data": {
      "application/vnd.jupyter.widget-view+json": {
       "model_id": "9826cb06cad74e94a2cb500ed05f18c7",
       "version_major": 2,
       "version_minor": 0
      },
      "text/plain": [
       "HBox(children=(IntProgress(value=0, description='Position refreshing...', max=1500, style=ProgressStyle(descri…"
      ]
     },
     "metadata": {},
     "output_type": "display_data"
    },
    {
     "data": {
      "application/vnd.jupyter.widget-view+json": {
       "model_id": "e6114b05a2d0467fa11cfef127c4a24a",
       "version_major": 2,
       "version_minor": 0
      },
      "text/plain": [
       "HBox(children=(IntProgress(value=0, description='Velocity refreshing...', max=1500, style=ProgressStyle(descri…"
      ]
     },
     "metadata": {},
     "output_type": "display_data"
    },
    {
     "data": {
      "application/vnd.jupyter.widget-view+json": {
       "model_id": "504b6ebce7e746d3893518d5e95f41ba",
       "version_major": 2,
       "version_minor": 0
      },
      "text/plain": [
       "HBox(children=(IntProgress(value=0, description='Position refreshing...', max=1500, style=ProgressStyle(descri…"
      ]
     },
     "metadata": {},
     "output_type": "display_data"
    },
    {
     "data": {
      "application/vnd.jupyter.widget-view+json": {
       "model_id": "e0954f96c72d40ff987fe7c8b0b3af03",
       "version_major": 2,
       "version_minor": 0
      },
      "text/plain": [
       "HBox(children=(IntProgress(value=0, description='Velocity refreshing...', max=1500, style=ProgressStyle(descri…"
      ]
     },
     "metadata": {},
     "output_type": "display_data"
    },
    {
     "data": {
      "application/vnd.jupyter.widget-view+json": {
       "model_id": "98c0523b5cfc4b84a16835fb883e4c7a",
       "version_major": 2,
       "version_minor": 0
      },
      "text/plain": [
       "HBox(children=(IntProgress(value=0, description='Position refreshing...', max=1500, style=ProgressStyle(descri…"
      ]
     },
     "metadata": {},
     "output_type": "display_data"
    },
    {
     "data": {
      "application/vnd.jupyter.widget-view+json": {
       "model_id": "c3d2e5c0e0044eb9bd44c25cf3015e2d",
       "version_major": 2,
       "version_minor": 0
      },
      "text/plain": [
       "HBox(children=(IntProgress(value=0, description='Velocity refreshing...', max=1500, style=ProgressStyle(descri…"
      ]
     },
     "metadata": {},
     "output_type": "display_data"
    },
    {
     "data": {
      "application/vnd.jupyter.widget-view+json": {
       "model_id": "e9aa6a8f7d5f4a1ea2270b963799eef4",
       "version_major": 2,
       "version_minor": 0
      },
      "text/plain": [
       "HBox(children=(IntProgress(value=0, description='Position refreshing...', max=1500, style=ProgressStyle(descri…"
      ]
     },
     "metadata": {},
     "output_type": "display_data"
    },
    {
     "data": {
      "application/vnd.jupyter.widget-view+json": {
       "model_id": "6919af1fb7c54bec83ffa7eef6f311e1",
       "version_major": 2,
       "version_minor": 0
      },
      "text/plain": [
       "HBox(children=(IntProgress(value=0, description='Velocity refreshing...', max=1500, style=ProgressStyle(descri…"
      ]
     },
     "metadata": {},
     "output_type": "display_data"
    },
    {
     "data": {
      "application/vnd.jupyter.widget-view+json": {
       "model_id": "88560c0741ea4338ad67527d7f1f12b5",
       "version_major": 2,
       "version_minor": 0
      },
      "text/plain": [
       "HBox(children=(IntProgress(value=0, description='Position refreshing...', max=1500, style=ProgressStyle(descri…"
      ]
     },
     "metadata": {},
     "output_type": "display_data"
    },
    {
     "data": {
      "application/vnd.jupyter.widget-view+json": {
       "model_id": "192c8fb8aad247f9aa461ad41c342596",
       "version_major": 2,
       "version_minor": 0
      },
      "text/plain": [
       "HBox(children=(IntProgress(value=0, description='Velocity refreshing...', max=1500, style=ProgressStyle(descri…"
      ]
     },
     "metadata": {},
     "output_type": "display_data"
    },
    {
     "data": {
      "application/vnd.jupyter.widget-view+json": {
       "model_id": "aa6fe0f101ab4315b16f371286c2d1a3",
       "version_major": 2,
       "version_minor": 0
      },
      "text/plain": [
       "HBox(children=(IntProgress(value=0, description='Position refreshing...', max=1500, style=ProgressStyle(descri…"
      ]
     },
     "metadata": {},
     "output_type": "display_data"
    },
    {
     "data": {
      "application/vnd.jupyter.widget-view+json": {
       "model_id": "5e58120e8f69428b8971469fdce065e7",
       "version_major": 2,
       "version_minor": 0
      },
      "text/plain": [
       "HBox(children=(IntProgress(value=0, description='Velocity refreshing...', max=1500, style=ProgressStyle(descri…"
      ]
     },
     "metadata": {},
     "output_type": "display_data"
    },
    {
     "data": {
      "application/vnd.jupyter.widget-view+json": {
       "model_id": "49cb067bda394a37bb8b8e7bf7ceab51",
       "version_major": 2,
       "version_minor": 0
      },
      "text/plain": [
       "HBox(children=(IntProgress(value=0, description='Position refreshing...', max=1500, style=ProgressStyle(descri…"
      ]
     },
     "metadata": {},
     "output_type": "display_data"
    },
    {
     "data": {
      "application/vnd.jupyter.widget-view+json": {
       "model_id": "67d72858456e4ded8ba5480ceaa77feb",
       "version_major": 2,
       "version_minor": 0
      },
      "text/plain": [
       "HBox(children=(IntProgress(value=0, description='Velocity refreshing...', max=1500, style=ProgressStyle(descri…"
      ]
     },
     "metadata": {},
     "output_type": "display_data"
    },
    {
     "data": {
      "application/vnd.jupyter.widget-view+json": {
       "model_id": "d84d80450c4f46b1a38e992bf5227b8d",
       "version_major": 2,
       "version_minor": 0
      },
      "text/plain": [
       "HBox(children=(IntProgress(value=0, description='Position refreshing...', max=1500, style=ProgressStyle(descri…"
      ]
     },
     "metadata": {},
     "output_type": "display_data"
    },
    {
     "data": {
      "application/vnd.jupyter.widget-view+json": {
       "model_id": "0aef5802c54c4b76a22602b76bef793a",
       "version_major": 2,
       "version_minor": 0
      },
      "text/plain": [
       "HBox(children=(IntProgress(value=0, description='Velocity refreshing...', max=1500, style=ProgressStyle(descri…"
      ]
     },
     "metadata": {},
     "output_type": "display_data"
    },
    {
     "data": {
      "application/vnd.jupyter.widget-view+json": {
       "model_id": "7ec84bc5052942c19ce526ccd41d93a0",
       "version_major": 2,
       "version_minor": 0
      },
      "text/plain": [
       "HBox(children=(IntProgress(value=0, description='Position refreshing...', max=1500, style=ProgressStyle(descri…"
      ]
     },
     "metadata": {},
     "output_type": "display_data"
    },
    {
     "data": {
      "application/vnd.jupyter.widget-view+json": {
       "model_id": "97dcd053d0364ba28a434497a0142169",
       "version_major": 2,
       "version_minor": 0
      },
      "text/plain": [
       "HBox(children=(IntProgress(value=0, description='Velocity refreshing...', max=1500, style=ProgressStyle(descri…"
      ]
     },
     "metadata": {},
     "output_type": "display_data"
    },
    {
     "data": {
      "application/vnd.jupyter.widget-view+json": {
       "model_id": "78f7163ac12843d09bac3c912e997e62",
       "version_major": 2,
       "version_minor": 0
      },
      "text/plain": [
       "HBox(children=(IntProgress(value=0, description='Position refreshing...', max=1500, style=ProgressStyle(descri…"
      ]
     },
     "metadata": {},
     "output_type": "display_data"
    },
    {
     "data": {
      "application/vnd.jupyter.widget-view+json": {
       "model_id": "d5a3cc69b5494268b567bbb2f2db4fee",
       "version_major": 2,
       "version_minor": 0
      },
      "text/plain": [
       "HBox(children=(IntProgress(value=0, description='Velocity refreshing...', max=1500, style=ProgressStyle(descri…"
      ]
     },
     "metadata": {},
     "output_type": "display_data"
    },
    {
     "data": {
      "application/vnd.jupyter.widget-view+json": {
       "model_id": "8fdbfdaacf77424ab58cff69d77ea650",
       "version_major": 2,
       "version_minor": 0
      },
      "text/plain": [
       "HBox(children=(IntProgress(value=0, description='Position refreshing...', max=1500, style=ProgressStyle(descri…"
      ]
     },
     "metadata": {},
     "output_type": "display_data"
    },
    {
     "data": {
      "application/vnd.jupyter.widget-view+json": {
       "model_id": "db797dcb52864e66a831ef34caae9f5d",
       "version_major": 2,
       "version_minor": 0
      },
      "text/plain": [
       "HBox(children=(IntProgress(value=0, description='Velocity refreshing...', max=1500, style=ProgressStyle(descri…"
      ]
     },
     "metadata": {},
     "output_type": "display_data"
    },
    {
     "data": {
      "application/vnd.jupyter.widget-view+json": {
       "model_id": "3a19b0b4c76d4dfa84a9789a14f9c9aa",
       "version_major": 2,
       "version_minor": 0
      },
      "text/plain": [
       "HBox(children=(IntProgress(value=0, description='Position refreshing...', max=1500, style=ProgressStyle(descri…"
      ]
     },
     "metadata": {},
     "output_type": "display_data"
    },
    {
     "data": {
      "application/vnd.jupyter.widget-view+json": {
       "model_id": "71e23cfe0f7d4e86a6b75a8185299d67",
       "version_major": 2,
       "version_minor": 0
      },
      "text/plain": [
       "HBox(children=(IntProgress(value=0, description='Velocity refreshing...', max=1500, style=ProgressStyle(descri…"
      ]
     },
     "metadata": {},
     "output_type": "display_data"
    },
    {
     "data": {
      "application/vnd.jupyter.widget-view+json": {
       "model_id": "d7f59c167a484e5ca7eaf42456b3c4c0",
       "version_major": 2,
       "version_minor": 0
      },
      "text/plain": [
       "HBox(children=(IntProgress(value=0, description='Position refreshing...', max=1500, style=ProgressStyle(descri…"
      ]
     },
     "metadata": {},
     "output_type": "display_data"
    },
    {
     "data": {
      "application/vnd.jupyter.widget-view+json": {
       "model_id": "b2027528e2d54b229a6f3dcc95224a07",
       "version_major": 2,
       "version_minor": 0
      },
      "text/plain": [
       "HBox(children=(IntProgress(value=0, description='Velocity refreshing...', max=1500, style=ProgressStyle(descri…"
      ]
     },
     "metadata": {},
     "output_type": "display_data"
    },
    {
     "data": {
      "application/vnd.jupyter.widget-view+json": {
       "model_id": "ca36640f3b374a3e882687ace840932b",
       "version_major": 2,
       "version_minor": 0
      },
      "text/plain": [
       "HBox(children=(IntProgress(value=0, description='Position refreshing...', max=1500, style=ProgressStyle(descri…"
      ]
     },
     "metadata": {},
     "output_type": "display_data"
    },
    {
     "data": {
      "application/vnd.jupyter.widget-view+json": {
       "model_id": "bf02f14408eb428aaedc472e3489a36f",
       "version_major": 2,
       "version_minor": 0
      },
      "text/plain": [
       "HBox(children=(IntProgress(value=0, description='Velocity refreshing...', max=1500, style=ProgressStyle(descri…"
      ]
     },
     "metadata": {},
     "output_type": "display_data"
    },
    {
     "data": {
      "application/vnd.jupyter.widget-view+json": {
       "model_id": "4113a63d23d94685ba9af45e76f234eb",
       "version_major": 2,
       "version_minor": 0
      },
      "text/plain": [
       "HBox(children=(IntProgress(value=0, description='Position refreshing...', max=1500, style=ProgressStyle(descri…"
      ]
     },
     "metadata": {},
     "output_type": "display_data"
    },
    {
     "data": {
      "application/vnd.jupyter.widget-view+json": {
       "model_id": "c66df32ef5f0474986d1beeed83e751f",
       "version_major": 2,
       "version_minor": 0
      },
      "text/plain": [
       "HBox(children=(IntProgress(value=0, description='Velocity refreshing...', max=1500, style=ProgressStyle(descri…"
      ]
     },
     "metadata": {},
     "output_type": "display_data"
    },
    {
     "data": {
      "application/vnd.jupyter.widget-view+json": {
       "model_id": "a65d8a64372340be8285c9dc2465d282",
       "version_major": 2,
       "version_minor": 0
      },
      "text/plain": [
       "HBox(children=(IntProgress(value=0, description='Position refreshing...', max=1500, style=ProgressStyle(descri…"
      ]
     },
     "metadata": {},
     "output_type": "display_data"
    },
    {
     "data": {
      "application/vnd.jupyter.widget-view+json": {
       "model_id": "b3f89dbe86524ee781f8cc30527b0528",
       "version_major": 2,
       "version_minor": 0
      },
      "text/plain": [
       "HBox(children=(IntProgress(value=0, description='Velocity refreshing...', max=1500, style=ProgressStyle(descri…"
      ]
     },
     "metadata": {},
     "output_type": "display_data"
    },
    {
     "data": {
      "application/vnd.jupyter.widget-view+json": {
       "model_id": "e256a5b6d52542ed937829445ae7bcfc",
       "version_major": 2,
       "version_minor": 0
      },
      "text/plain": [
       "HBox(children=(IntProgress(value=0, description='Position refreshing...', max=1500, style=ProgressStyle(descri…"
      ]
     },
     "metadata": {},
     "output_type": "display_data"
    },
    {
     "data": {
      "application/vnd.jupyter.widget-view+json": {
       "model_id": "9f1e6ccd10e440f28e08b3c4ff278fcf",
       "version_major": 2,
       "version_minor": 0
      },
      "text/plain": [
       "HBox(children=(IntProgress(value=0, description='Velocity refreshing...', max=1500, style=ProgressStyle(descri…"
      ]
     },
     "metadata": {},
     "output_type": "display_data"
    },
    {
     "data": {
      "application/vnd.jupyter.widget-view+json": {
       "model_id": "581f952a80da4b43857740405a6608f0",
       "version_major": 2,
       "version_minor": 0
      },
      "text/plain": [
       "HBox(children=(IntProgress(value=0, description='Position refreshing...', max=1500, style=ProgressStyle(descri…"
      ]
     },
     "metadata": {},
     "output_type": "display_data"
    },
    {
     "data": {
      "application/vnd.jupyter.widget-view+json": {
       "model_id": "cf45e67c860f4e57ab103387fb3c7656",
       "version_major": 2,
       "version_minor": 0
      },
      "text/plain": [
       "HBox(children=(IntProgress(value=0, description='Velocity refreshing...', max=1500, style=ProgressStyle(descri…"
      ]
     },
     "metadata": {},
     "output_type": "display_data"
    },
    {
     "data": {
      "application/vnd.jupyter.widget-view+json": {
       "model_id": "0edccbb1982348b39b7377b66e5bc5af",
       "version_major": 2,
       "version_minor": 0
      },
      "text/plain": [
       "HBox(children=(IntProgress(value=0, description='Position refreshing...', max=1500, style=ProgressStyle(descri…"
      ]
     },
     "metadata": {},
     "output_type": "display_data"
    },
    {
     "data": {
      "application/vnd.jupyter.widget-view+json": {
       "model_id": "e20c5aae71d3483ea90a6eb5d5664e0f",
       "version_major": 2,
       "version_minor": 0
      },
      "text/plain": [
       "HBox(children=(IntProgress(value=0, description='Velocity refreshing...', max=1500, style=ProgressStyle(descri…"
      ]
     },
     "metadata": {},
     "output_type": "display_data"
    },
    {
     "data": {
      "application/vnd.jupyter.widget-view+json": {
       "model_id": "361f4133dee646ddb3d36e5a3b8ea381",
       "version_major": 2,
       "version_minor": 0
      },
      "text/plain": [
       "HBox(children=(IntProgress(value=0, description='Position refreshing...', max=1500, style=ProgressStyle(descri…"
      ]
     },
     "metadata": {},
     "output_type": "display_data"
    },
    {
     "data": {
      "application/vnd.jupyter.widget-view+json": {
       "model_id": "c6934618e58e4cfabee7f49c26724f11",
       "version_major": 2,
       "version_minor": 0
      },
      "text/plain": [
       "HBox(children=(IntProgress(value=0, description='Velocity refreshing...', max=1500, style=ProgressStyle(descri…"
      ]
     },
     "metadata": {},
     "output_type": "display_data"
    },
    {
     "data": {
      "application/vnd.jupyter.widget-view+json": {
       "model_id": "67381d74f36a4a6683ed9543544705b5",
       "version_major": 2,
       "version_minor": 0
      },
      "text/plain": [
       "HBox(children=(IntProgress(value=0, description='Position refreshing...', max=1500, style=ProgressStyle(descri…"
      ]
     },
     "metadata": {},
     "output_type": "display_data"
    },
    {
     "data": {
      "application/vnd.jupyter.widget-view+json": {
       "model_id": "919f7dbfddf445ab88ee219a89f67ba5",
       "version_major": 2,
       "version_minor": 0
      },
      "text/plain": [
       "HBox(children=(IntProgress(value=0, description='Velocity refreshing...', max=1500, style=ProgressStyle(descri…"
      ]
     },
     "metadata": {},
     "output_type": "display_data"
    },
    {
     "data": {
      "application/vnd.jupyter.widget-view+json": {
       "model_id": "9240dec8e52a4d239825fb447e54759b",
       "version_major": 2,
       "version_minor": 0
      },
      "text/plain": [
       "HBox(children=(IntProgress(value=0, description='Position refreshing...', max=1500, style=ProgressStyle(descri…"
      ]
     },
     "metadata": {},
     "output_type": "display_data"
    },
    {
     "data": {
      "application/vnd.jupyter.widget-view+json": {
       "model_id": "86052e287adf4f03a3b6745c9c94f45d",
       "version_major": 2,
       "version_minor": 0
      },
      "text/plain": [
       "HBox(children=(IntProgress(value=0, description='Velocity refreshing...', max=1500, style=ProgressStyle(descri…"
      ]
     },
     "metadata": {},
     "output_type": "display_data"
    },
    {
     "data": {
      "application/vnd.jupyter.widget-view+json": {
       "model_id": "81d95b4ff4b24492b03e01715f15bb9d",
       "version_major": 2,
       "version_minor": 0
      },
      "text/plain": [
       "HBox(children=(IntProgress(value=0, description='Position refreshing...', max=1500, style=ProgressStyle(descri…"
      ]
     },
     "metadata": {},
     "output_type": "display_data"
    },
    {
     "data": {
      "application/vnd.jupyter.widget-view+json": {
       "model_id": "e921e22213f64fce8d6a5643c586c032",
       "version_major": 2,
       "version_minor": 0
      },
      "text/plain": [
       "HBox(children=(IntProgress(value=0, description='Velocity refreshing...', max=1500, style=ProgressStyle(descri…"
      ]
     },
     "metadata": {},
     "output_type": "display_data"
    },
    {
     "data": {
      "application/vnd.jupyter.widget-view+json": {
       "model_id": "78835132e75d4ff59680e6a077a85349",
       "version_major": 2,
       "version_minor": 0
      },
      "text/plain": [
       "HBox(children=(IntProgress(value=0, description='Position refreshing...', max=1500, style=ProgressStyle(descri…"
      ]
     },
     "metadata": {},
     "output_type": "display_data"
    },
    {
     "data": {
      "application/vnd.jupyter.widget-view+json": {
       "model_id": "1145c3585e1746baa341298b37b75cc2",
       "version_major": 2,
       "version_minor": 0
      },
      "text/plain": [
       "HBox(children=(IntProgress(value=0, description='Velocity refreshing...', max=1500, style=ProgressStyle(descri…"
      ]
     },
     "metadata": {},
     "output_type": "display_data"
    },
    {
     "data": {
      "application/vnd.jupyter.widget-view+json": {
       "model_id": "7b8735cc656e46a8b74fc56d91e494c1",
       "version_major": 2,
       "version_minor": 0
      },
      "text/plain": [
       "HBox(children=(IntProgress(value=0, description='Position refreshing...', max=1500, style=ProgressStyle(descri…"
      ]
     },
     "metadata": {},
     "output_type": "display_data"
    },
    {
     "data": {
      "application/vnd.jupyter.widget-view+json": {
       "model_id": "eea265098c2b407fb334c40626d91813",
       "version_major": 2,
       "version_minor": 0
      },
      "text/plain": [
       "HBox(children=(IntProgress(value=0, description='Velocity refreshing...', max=1500, style=ProgressStyle(descri…"
      ]
     },
     "metadata": {},
     "output_type": "display_data"
    },
    {
     "data": {
      "application/vnd.jupyter.widget-view+json": {
       "model_id": "ba121454e157425abe7cbefbea86c38d",
       "version_major": 2,
       "version_minor": 0
      },
      "text/plain": [
       "HBox(children=(IntProgress(value=0, description='Position refreshing...', max=1500, style=ProgressStyle(descri…"
      ]
     },
     "metadata": {},
     "output_type": "display_data"
    },
    {
     "data": {
      "application/vnd.jupyter.widget-view+json": {
       "model_id": "565793dde47b44e7b3ed71ddcb6f9a75",
       "version_major": 2,
       "version_minor": 0
      },
      "text/plain": [
       "HBox(children=(IntProgress(value=0, description='Velocity refreshing...', max=1500, style=ProgressStyle(descri…"
      ]
     },
     "metadata": {},
     "output_type": "display_data"
    },
    {
     "data": {
      "application/vnd.jupyter.widget-view+json": {
       "model_id": "39f4f9f63faf4d859668fc0a99169142",
       "version_major": 2,
       "version_minor": 0
      },
      "text/plain": [
       "HBox(children=(IntProgress(value=0, description='Position refreshing...', max=1500, style=ProgressStyle(descri…"
      ]
     },
     "metadata": {},
     "output_type": "display_data"
    },
    {
     "data": {
      "application/vnd.jupyter.widget-view+json": {
       "model_id": "5008a689dfbc44819459d41334ff6f53",
       "version_major": 2,
       "version_minor": 0
      },
      "text/plain": [
       "HBox(children=(IntProgress(value=0, description='Velocity refreshing...', max=1500, style=ProgressStyle(descri…"
      ]
     },
     "metadata": {},
     "output_type": "display_data"
    },
    {
     "data": {
      "application/vnd.jupyter.widget-view+json": {
       "model_id": "dce388dfb63e4e7489feaa9b30412104",
       "version_major": 2,
       "version_minor": 0
      },
      "text/plain": [
       "HBox(children=(IntProgress(value=0, description='Position refreshing...', max=1500, style=ProgressStyle(descri…"
      ]
     },
     "metadata": {},
     "output_type": "display_data"
    },
    {
     "data": {
      "application/vnd.jupyter.widget-view+json": {
       "model_id": "3d79f958cb944a1ba07fda82ffa75c73",
       "version_major": 2,
       "version_minor": 0
      },
      "text/plain": [
       "HBox(children=(IntProgress(value=0, description='Velocity refreshing...', max=1500, style=ProgressStyle(descri…"
      ]
     },
     "metadata": {},
     "output_type": "display_data"
    },
    {
     "data": {
      "application/vnd.jupyter.widget-view+json": {
       "model_id": "ced991c2ede146a0bf0300e274544889",
       "version_major": 2,
       "version_minor": 0
      },
      "text/plain": [
       "HBox(children=(IntProgress(value=0, description='Position refreshing...', max=1500, style=ProgressStyle(descri…"
      ]
     },
     "metadata": {},
     "output_type": "display_data"
    },
    {
     "data": {
      "application/vnd.jupyter.widget-view+json": {
       "model_id": "1ae9966bb9fd435da05a550e9b4c30e9",
       "version_major": 2,
       "version_minor": 0
      },
      "text/plain": [
       "HBox(children=(IntProgress(value=0, description='Velocity refreshing...', max=1500, style=ProgressStyle(descri…"
      ]
     },
     "metadata": {},
     "output_type": "display_data"
    },
    {
     "data": {
      "application/vnd.jupyter.widget-view+json": {
       "model_id": "74812470e7cc4d87a842a9c203fb0559",
       "version_major": 2,
       "version_minor": 0
      },
      "text/plain": [
       "HBox(children=(IntProgress(value=0, description='Position refreshing...', max=1500, style=ProgressStyle(descri…"
      ]
     },
     "metadata": {},
     "output_type": "display_data"
    },
    {
     "data": {
      "application/vnd.jupyter.widget-view+json": {
       "model_id": "e00e9e21379f46fd9efbb842b37c0a60",
       "version_major": 2,
       "version_minor": 0
      },
      "text/plain": [
       "HBox(children=(IntProgress(value=0, description='Velocity refreshing...', max=1500, style=ProgressStyle(descri…"
      ]
     },
     "metadata": {},
     "output_type": "display_data"
    },
    {
     "data": {
      "application/vnd.jupyter.widget-view+json": {
       "model_id": "dfcf6f1094384939a3ec9a7a2a088a6d",
       "version_major": 2,
       "version_minor": 0
      },
      "text/plain": [
       "HBox(children=(IntProgress(value=0, description='Position refreshing...', max=1500, style=ProgressStyle(descri…"
      ]
     },
     "metadata": {},
     "output_type": "display_data"
    },
    {
     "data": {
      "application/vnd.jupyter.widget-view+json": {
       "model_id": "499c4787ecf24b5893366d5a7e499e1a",
       "version_major": 2,
       "version_minor": 0
      },
      "text/plain": [
       "HBox(children=(IntProgress(value=0, description='Velocity refreshing...', max=1500, style=ProgressStyle(descri…"
      ]
     },
     "metadata": {},
     "output_type": "display_data"
    },
    {
     "data": {
      "application/vnd.jupyter.widget-view+json": {
       "model_id": "5870be03ee1b4475a94a8713592fc5ce",
       "version_major": 2,
       "version_minor": 0
      },
      "text/plain": [
       "HBox(children=(IntProgress(value=0, description='Position refreshing...', max=1500, style=ProgressStyle(descri…"
      ]
     },
     "metadata": {},
     "output_type": "display_data"
    },
    {
     "data": {
      "application/vnd.jupyter.widget-view+json": {
       "model_id": "a5322800d8e2425caf72af284f1cea35",
       "version_major": 2,
       "version_minor": 0
      },
      "text/plain": [
       "HBox(children=(IntProgress(value=0, description='Velocity refreshing...', max=1500, style=ProgressStyle(descri…"
      ]
     },
     "metadata": {},
     "output_type": "display_data"
    },
    {
     "data": {
      "application/vnd.jupyter.widget-view+json": {
       "model_id": "a0634ee7847c4d298da5c8b27cec7e53",
       "version_major": 2,
       "version_minor": 0
      },
      "text/plain": [
       "HBox(children=(IntProgress(value=0, description='Position refreshing...', max=1500, style=ProgressStyle(descri…"
      ]
     },
     "metadata": {},
     "output_type": "display_data"
    },
    {
     "data": {
      "application/vnd.jupyter.widget-view+json": {
       "model_id": "c10199c7e2324a7ab1532b77aa254f69",
       "version_major": 2,
       "version_minor": 0
      },
      "text/plain": [
       "HBox(children=(IntProgress(value=0, description='Velocity refreshing...', max=1500, style=ProgressStyle(descri…"
      ]
     },
     "metadata": {},
     "output_type": "display_data"
    },
    {
     "data": {
      "application/vnd.jupyter.widget-view+json": {
       "model_id": "29c47bb737b3474d9d3cde29dd94e424",
       "version_major": 2,
       "version_minor": 0
      },
      "text/plain": [
       "HBox(children=(IntProgress(value=0, description='Position refreshing...', max=1500, style=ProgressStyle(descri…"
      ]
     },
     "metadata": {},
     "output_type": "display_data"
    },
    {
     "data": {
      "application/vnd.jupyter.widget-view+json": {
       "model_id": "f870b1d8946a44a8979b072e72580429",
       "version_major": 2,
       "version_minor": 0
      },
      "text/plain": [
       "HBox(children=(IntProgress(value=0, description='Velocity refreshing...', max=1500, style=ProgressStyle(descri…"
      ]
     },
     "metadata": {},
     "output_type": "display_data"
    },
    {
     "data": {
      "application/vnd.jupyter.widget-view+json": {
       "model_id": "3e939f9c233c4485a532e4be5845685b",
       "version_major": 2,
       "version_minor": 0
      },
      "text/plain": [
       "HBox(children=(IntProgress(value=0, description='Position refreshing...', max=1500, style=ProgressStyle(descri…"
      ]
     },
     "metadata": {},
     "output_type": "display_data"
    },
    {
     "data": {
      "application/vnd.jupyter.widget-view+json": {
       "model_id": "b0d68f6b46ae435da9942638297a9eea",
       "version_major": 2,
       "version_minor": 0
      },
      "text/plain": [
       "HBox(children=(IntProgress(value=0, description='Velocity refreshing...', max=1500, style=ProgressStyle(descri…"
      ]
     },
     "metadata": {},
     "output_type": "display_data"
    },
    {
     "data": {
      "application/vnd.jupyter.widget-view+json": {
       "model_id": "d8a240215d5346d98e63a59a9cb1913e",
       "version_major": 2,
       "version_minor": 0
      },
      "text/plain": [
       "HBox(children=(IntProgress(value=0, description='Position refreshing...', max=1500, style=ProgressStyle(descri…"
      ]
     },
     "metadata": {},
     "output_type": "display_data"
    },
    {
     "data": {
      "application/vnd.jupyter.widget-view+json": {
       "model_id": "1fe4f9015f2c43a1b18457fa67cc452a",
       "version_major": 2,
       "version_minor": 0
      },
      "text/plain": [
       "HBox(children=(IntProgress(value=0, description='Velocity refreshing...', max=1500, style=ProgressStyle(descri…"
      ]
     },
     "metadata": {},
     "output_type": "display_data"
    },
    {
     "data": {
      "application/vnd.jupyter.widget-view+json": {
       "model_id": "fdc51065132a4ffe8b06f5e92b077714",
       "version_major": 2,
       "version_minor": 0
      },
      "text/plain": [
       "HBox(children=(IntProgress(value=0, description='Position refreshing...', max=1500, style=ProgressStyle(descri…"
      ]
     },
     "metadata": {},
     "output_type": "display_data"
    },
    {
     "data": {
      "application/vnd.jupyter.widget-view+json": {
       "model_id": "eb578cc921b44eb6b349782db612de54",
       "version_major": 2,
       "version_minor": 0
      },
      "text/plain": [
       "HBox(children=(IntProgress(value=0, description='Velocity refreshing...', max=1500, style=ProgressStyle(descri…"
      ]
     },
     "metadata": {},
     "output_type": "display_data"
    },
    {
     "data": {
      "application/vnd.jupyter.widget-view+json": {
       "model_id": "b65ce77e8ba24d04a26dd744e211727f",
       "version_major": 2,
       "version_minor": 0
      },
      "text/plain": [
       "HBox(children=(IntProgress(value=0, description='Position refreshing...', max=1500, style=ProgressStyle(descri…"
      ]
     },
     "metadata": {},
     "output_type": "display_data"
    },
    {
     "data": {
      "application/vnd.jupyter.widget-view+json": {
       "model_id": "e41423337e6c4e77a07186f2f06f299d",
       "version_major": 2,
       "version_minor": 0
      },
      "text/plain": [
       "HBox(children=(IntProgress(value=0, description='Velocity refreshing...', max=1500, style=ProgressStyle(descri…"
      ]
     },
     "metadata": {},
     "output_type": "display_data"
    },
    {
     "data": {
      "application/vnd.jupyter.widget-view+json": {
       "model_id": "cb3ee41a7d504ce29a7ebaf4fb81462d",
       "version_major": 2,
       "version_minor": 0
      },
      "text/plain": [
       "HBox(children=(IntProgress(value=0, description='Position refreshing...', max=1500, style=ProgressStyle(descri…"
      ]
     },
     "metadata": {},
     "output_type": "display_data"
    },
    {
     "name": "stdout",
     "output_type": "stream",
     "text": [
      "\n",
      "[[  6.62057375  42.52053796  65.90337233 ...  16.11351407   6.06985919\n",
      "   84.89570361]\n",
      " [  9.42900791  44.92279064  57.93964049 ...  23.2569542   15.15288736\n",
      "   81.02911244]\n",
      " [ 17.38973723  49.48934629  52.77975537 ...  34.31877637  36.86479558\n",
      "   63.64658659]\n",
      " ...\n",
      " [ 49.22076332  53.47510829  -4.32111    ...  52.48994128  47.52129915\n",
      "   32.91061397]\n",
      " [ 45.01905031  48.67332194 -13.96881469 ...  41.34166     57.2898848\n",
      "   32.33045228]\n",
      " [ 49.81975515  56.79535596 -16.76073047 ...  47.94491055  56.11289876\n",
      "   36.32952889]]\n"
     ]
    },
    {
     "data": {
      "application/vnd.jupyter.widget-view+json": {
       "model_id": "94420c1af9a641358a96dbf5f51eaf00",
       "version_major": 2,
       "version_minor": 0
      },
      "text/plain": [
       "VBox(children=(Figure(animation=200.0, camera=PerspectiveCamera(fov=46.0, position=(0.0, 0.0, 2.0), quaternion…"
      ]
     },
     "metadata": {},
     "output_type": "display_data"
    },
    {
     "name": "stdout",
     "output_type": "stream",
     "text": [
      "Completed\n"
     ]
    }
   ],
   "source": [
    "########################\n",
    "#         TEST         #\n",
    "########################\n",
    "\n",
    "flock = Flock()\n",
    "flock.generate(size = 1500)\n",
    "\n",
    "flock.animate(1, 6, 3, 4, 50, 1)\n",
    "\n",
    "# print('The flock center is: ', flock.center())\n",
    "# flock.plot()\n",
    "# flock.plotConnections(5)\n",
    "# flock.refreshVelocities(1.5)\n",
    "# flock.plot()\n",
    "# flock.plotConnections(5)\n",
    "\n",
    "print(\"Completed\")"
   ]
  },
  {
   "cell_type": "code",
   "execution_count": null,
   "metadata": {},
   "outputs": [],
   "source": []
  }
 ],
 "metadata": {
  "kernelspec": {
   "display_name": "Python 3",
   "language": "python",
   "name": "python3"
  },
  "language_info": {
   "codemirror_mode": {
    "name": "ipython",
    "version": 3
   },
   "file_extension": ".py",
   "mimetype": "text/x-python",
   "name": "python",
   "nbconvert_exporter": "python",
   "pygments_lexer": "ipython3",
   "version": "3.7.3"
  }
 },
 "nbformat": 4,
 "nbformat_minor": 2
}
